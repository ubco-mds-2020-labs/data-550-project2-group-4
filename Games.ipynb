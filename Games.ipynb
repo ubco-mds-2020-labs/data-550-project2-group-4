{
 "cells": [
  {
   "cell_type": "markdown",
   "metadata": {},
   "source": [
    "### Video Games Dataset: EDA\n",
    "#### 1. Describe Dataset\n",
    "- **Who:** The data was acquired from Kaggle and supplied by the user Gregory Smith (https://www.kaggle.com/gregorut/videogamesales). The data was scraped from www.vgchartz.com. \n",
    "- **What:** The dataset contains a list of video games with sales greater than 100,000 from 1980 to 2011. It contains information such as the platform the game was made available, year of release, genre, publisher, sales in NA, sales in JP, sales in EU, sales in the rest of the world and global sales (total). The data set also includes the rank of games in terms of overall sales. **NOTE: Sales are in millions**\n",
    "- **When:** The data set was last updated 4 years ago but contains games released from 1980 to seemingly 2017. \n",
    "- **Why:** The video game industry is a very competitive yet profitable industry. While big companies with large amounts of resources have an edge over smaller companies, we have recently seen many small companies finding huge success. Not only in game creation but in the case of streamers for example, playing a game before it becomes mainstream might give you an edge against bigger name streamers. With this data set, we are able to gain insight into general idea such as performance of companies, most popular titles and genres. We are also able to dive deeper and look at changing genre popularities over time, regional preference in game genres/platforms, upcoming developer etc.  \n",
    "- **How:** The data set was scraped from the www.vgzchartz.com website using BeautifulSoup. The scraping script can be found here (https://github.com/GregorUT/vgchartzScrape)"
   ]
  },
  {
   "cell_type": "markdown",
   "metadata": {},
   "source": [
    "#### 2. Load Dataset"
   ]
  },
  {
   "cell_type": "code",
   "execution_count": 1,
   "metadata": {},
   "outputs": [
    {
     "data": {
      "text/plain": [
       "DataTransformerRegistry.enable('data_server')"
      ]
     },
     "execution_count": 1,
     "metadata": {},
     "output_type": "execute_result"
    }
   ],
   "source": [
    "import pandas as pd\n",
    "import numpy as np\n",
    "import altair as alt\n",
    "from altair_saver import save\n",
    "alt.renderers.enable('mimetype')\n",
    "alt.data_transformers.enable('data_server')"
   ]
  },
  {
   "cell_type": "code",
   "execution_count": 2,
   "metadata": {},
   "outputs": [],
   "source": [
    "game = pd.read_csv(\"vgsales.csv\")"
   ]
  },
  {
   "cell_type": "markdown",
   "metadata": {},
   "source": [
    "#### 3. Explore Dataset"
   ]
  },
  {
   "cell_type": "code",
   "execution_count": 3,
   "metadata": {},
   "outputs": [
    {
     "name": "stdout",
     "output_type": "stream",
     "text": [
      "<class 'pandas.core.frame.DataFrame'>\n",
      "RangeIndex: 16598 entries, 0 to 16597\n",
      "Data columns (total 11 columns):\n",
      " #   Column        Non-Null Count  Dtype  \n",
      "---  ------        --------------  -----  \n",
      " 0   Rank          16598 non-null  int64  \n",
      " 1   Name          16598 non-null  object \n",
      " 2   Platform      16598 non-null  object \n",
      " 3   Year          16327 non-null  float64\n",
      " 4   Genre         16598 non-null  object \n",
      " 5   Publisher     16540 non-null  object \n",
      " 6   NA_Sales      16598 non-null  float64\n",
      " 7   EU_Sales      16598 non-null  float64\n",
      " 8   JP_Sales      16598 non-null  float64\n",
      " 9   Other_Sales   16598 non-null  float64\n",
      " 10  Global_Sales  16598 non-null  float64\n",
      "dtypes: float64(6), int64(1), object(4)\n",
      "memory usage: 1.4+ MB\n",
      "\n",
      "Platform:\n",
      " ['Wii' 'NES' 'GB' 'DS' 'X360' 'PS3' 'PS2' 'SNES' 'GBA' '3DS' 'PS4' 'N64'\n",
      " 'PS' 'XB' 'PC' '2600' 'PSP' 'XOne' 'GC' 'WiiU' 'GEN' 'DC' 'PSV' 'SAT'\n",
      " 'SCD' 'WS' 'NG' 'TG16' '3DO' 'GG' 'PCFX'] \n",
      "Count:  31\n",
      "\n",
      "Year\n",
      " [2006. 1985. 2008. 2009. 1996. 1989. 1984. 2005. 1999. 2007. 2010. 2013.\n",
      " 2004. 1990. 1988. 2002. 2001. 2011. 1998. 2015. 2012. 2014. 1992. 1997.\n",
      " 1993. 1994. 1982. 2003. 1986. 2000.   nan 1995. 2016. 1991. 1981. 1987.\n",
      " 1980. 1983. 2020. 2017.] \n",
      "Count:  39\n",
      "\n",
      "Genre\n",
      " ['Sports' 'Platform' 'Racing' 'Role-Playing' 'Puzzle' 'Misc' 'Shooter'\n",
      " 'Simulation' 'Action' 'Fighting' 'Adventure' 'Strategy'] \n",
      "Count:  12\n",
      "\n",
      "Publishers\n",
      " ['Nintendo' 'Microsoft Game Studios' 'Take-Two Interactive'\n",
      " 'Sony Computer Entertainment' 'Activision' 'Ubisoft' 'Bethesda Softworks'\n",
      " 'Electronic Arts' 'Sega' 'SquareSoft' 'Atari' '505 Games' 'Capcom'\n",
      " 'GT Interactive' 'Konami Digital Entertainment'] \n",
      "Count:  578\n",
      "   Rank               Name Platform    Year     Genre Publisher\n",
      "0     1         Wii Sports      Wii  2006.0    Sports  Nintendo\n",
      "1     2  Super Mario Bros.      NES  1985.0  Platform  Nintendo\n",
      "9    10          Duck Hunt      NES  1984.0   Shooter  Nintendo\n",
      "5     6             Tetris       GB  1989.0    Puzzle  Nintendo\n",
      "2     3     Mario Kart Wii      Wii  2008.0    Racing  Nintendo\n",
      "    Rank                Name Platform    Year       Genre  \\\n",
      "0      1          Wii Sports      Wii  2006.0      Sports   \n",
      "2      3      Mario Kart Wii      Wii  2008.0      Racing   \n",
      "3      4   Wii Sports Resort      Wii  2009.0      Sports   \n",
      "10    11          Nintendogs       DS  2005.0  Simulation   \n",
      "16    17  Grand Theft Auto V      PS3  2013.0      Action   \n",
      "\n",
      "               Publisher  \n",
      "0               Nintendo  \n",
      "2               Nintendo  \n",
      "3               Nintendo  \n",
      "10              Nintendo  \n",
      "16  Take-Two Interactive  \n",
      "    Rank                           Name Platform    Year         Genre  \\\n",
      "4      5       Pokemon Red/Pokemon Blue       GB  1996.0  Role-Playing   \n",
      "12    13    Pokemon Gold/Pokemon Silver       GB  1999.0  Role-Playing   \n",
      "1      2              Super Mario Bros.      NES  1985.0      Platform   \n",
      "6      7          New Super Mario Bros.       DS  2006.0      Platform   \n",
      "20    21  Pokemon Diamond/Pokemon Pearl       DS  2006.0  Role-Playing   \n",
      "\n",
      "   Publisher  \n",
      "4   Nintendo  \n",
      "12  Nintendo  \n",
      "1   Nintendo  \n",
      "6   Nintendo  \n",
      "20  Nintendo  \n",
      "   Rank                      Name Platform    Year         Genre Publisher\n",
      "0     1                Wii Sports      Wii  2006.0        Sports  Nintendo\n",
      "1     2         Super Mario Bros.      NES  1985.0      Platform  Nintendo\n",
      "2     3            Mario Kart Wii      Wii  2008.0        Racing  Nintendo\n",
      "3     4         Wii Sports Resort      Wii  2009.0        Sports  Nintendo\n",
      "4     5  Pokemon Red/Pokemon Blue       GB  1996.0  Role-Playing  Nintendo\n",
      "Year\n",
      "1980.0       9\n",
      "1981.0      46\n",
      "1982.0      36\n",
      "1983.0      17\n",
      "1984.0      14\n",
      "1985.0      14\n",
      "1986.0      21\n",
      "1987.0      16\n",
      "1988.0      15\n",
      "1989.0      17\n",
      "1990.0      16\n",
      "1991.0      41\n",
      "1992.0      43\n",
      "1993.0      60\n",
      "1994.0     121\n",
      "1995.0     219\n",
      "1996.0     263\n",
      "1997.0     289\n",
      "1998.0     379\n",
      "1999.0     338\n",
      "2000.0     349\n",
      "2001.0     482\n",
      "2002.0     829\n",
      "2003.0     775\n",
      "2004.0     763\n",
      "2005.0     941\n",
      "2006.0    1008\n",
      "2007.0    1202\n",
      "2008.0    1428\n",
      "2009.0    1431\n",
      "2010.0    1259\n",
      "2011.0    1139\n",
      "2012.0     657\n",
      "2013.0     546\n",
      "2014.0     582\n",
      "2015.0     614\n",
      "2016.0     344\n",
      "2017.0       3\n",
      "2020.0       1\n",
      "dtype: int64\n",
      "Genre\n",
      "Action          3316\n",
      "Adventure       1286\n",
      "Fighting         848\n",
      "Misc            1739\n",
      "Platform         886\n",
      "Puzzle           582\n",
      "Racing          1249\n",
      "Role-Playing    1488\n",
      "Shooter         1310\n",
      "Simulation       867\n",
      "Sports          2346\n",
      "Strategy         681\n",
      "dtype: int64\n",
      "Platform\n",
      "2600     133\n",
      "3DO        3\n",
      "3DS      509\n",
      "DC        52\n",
      "DS      2163\n",
      "GB        98\n",
      "GBA      822\n",
      "GC       556\n",
      "GEN       27\n",
      "GG         1\n",
      "N64      319\n",
      "NES       98\n",
      "NG        12\n",
      "PC       960\n",
      "PCFX       1\n",
      "PS      1196\n",
      "PS2     2161\n",
      "PS3     1329\n",
      "PS4      336\n",
      "PSP     1213\n",
      "PSV      413\n",
      "SAT      173\n",
      "SCD        6\n",
      "SNES     239\n",
      "TG16       2\n",
      "WS         6\n",
      "Wii     1325\n",
      "WiiU     143\n",
      "X360    1265\n",
      "XB       824\n",
      "XOne     213\n",
      "dtype: int64\n"
     ]
    },
    {
     "data": {
      "text/html": [
       "<div>\n",
       "<style scoped>\n",
       "    .dataframe tbody tr th:only-of-type {\n",
       "        vertical-align: middle;\n",
       "    }\n",
       "\n",
       "    .dataframe tbody tr th {\n",
       "        vertical-align: top;\n",
       "    }\n",
       "\n",
       "    .dataframe thead th {\n",
       "        text-align: right;\n",
       "    }\n",
       "</style>\n",
       "<table border=\"1\" class=\"dataframe\">\n",
       "  <thead>\n",
       "    <tr style=\"text-align: right;\">\n",
       "      <th></th>\n",
       "      <th>Name</th>\n",
       "      <th>Platform</th>\n",
       "    </tr>\n",
       "  </thead>\n",
       "  <tbody>\n",
       "    <tr>\n",
       "      <th>4499</th>\n",
       "      <td>007: Quantum of Solace</td>\n",
       "      <td>PS2</td>\n",
       "    </tr>\n",
       "    <tr>\n",
       "      <th>9318</th>\n",
       "      <td>007: Quantum of Solace</td>\n",
       "      <td>DS</td>\n",
       "    </tr>\n",
       "    <tr>\n",
       "      <th>1273</th>\n",
       "      <td>007: Quantum of Solace</td>\n",
       "      <td>X360</td>\n",
       "    </tr>\n",
       "    <tr>\n",
       "      <th>14547</th>\n",
       "      <td>007: Quantum of Solace</td>\n",
       "      <td>PC</td>\n",
       "    </tr>\n",
       "    <tr>\n",
       "      <th>3038</th>\n",
       "      <td>007: Quantum of Solace</td>\n",
       "      <td>Wii</td>\n",
       "    </tr>\n",
       "    <tr>\n",
       "      <th>1739</th>\n",
       "      <td>007: Quantum of Solace</td>\n",
       "      <td>PS3</td>\n",
       "    </tr>\n",
       "    <tr>\n",
       "      <th>2247</th>\n",
       "      <td>007: The World is not Enough</td>\n",
       "      <td>PS</td>\n",
       "    </tr>\n",
       "    <tr>\n",
       "      <th>1200</th>\n",
       "      <td>007: The World is not Enough</td>\n",
       "      <td>N64</td>\n",
       "    </tr>\n",
       "    <tr>\n",
       "      <th>15552</th>\n",
       "      <td>11eyes: CrossOver</td>\n",
       "      <td>PSP</td>\n",
       "    </tr>\n",
       "    <tr>\n",
       "      <th>15005</th>\n",
       "      <td>11eyes: CrossOver</td>\n",
       "      <td>X360</td>\n",
       "    </tr>\n",
       "    <tr>\n",
       "      <th>4830</th>\n",
       "      <td>18 Wheeler: American Pro Trucker</td>\n",
       "      <td>PS2</td>\n",
       "    </tr>\n",
       "    <tr>\n",
       "      <th>10075</th>\n",
       "      <td>18 Wheeler: American Pro Trucker</td>\n",
       "      <td>GC</td>\n",
       "    </tr>\n",
       "    <tr>\n",
       "      <th>8894</th>\n",
       "      <td>187: Ride or Die</td>\n",
       "      <td>PS2</td>\n",
       "    </tr>\n",
       "    <tr>\n",
       "      <th>12253</th>\n",
       "      <td>187: Ride or Die</td>\n",
       "      <td>XB</td>\n",
       "    </tr>\n",
       "    <tr>\n",
       "      <th>3770</th>\n",
       "      <td>2 in 1 Combo Pack: Sonic Heroes / Super Monkey...</td>\n",
       "      <td>XB</td>\n",
       "    </tr>\n",
       "  </tbody>\n",
       "</table>\n",
       "</div>"
      ],
      "text/plain": [
       "                                                    Name Platform\n",
       "4499                              007: Quantum of Solace      PS2\n",
       "9318                              007: Quantum of Solace       DS\n",
       "1273                              007: Quantum of Solace     X360\n",
       "14547                             007: Quantum of Solace       PC\n",
       "3038                              007: Quantum of Solace      Wii\n",
       "1739                              007: Quantum of Solace      PS3\n",
       "2247                        007: The World is not Enough       PS\n",
       "1200                        007: The World is not Enough      N64\n",
       "15552                                  11eyes: CrossOver      PSP\n",
       "15005                                  11eyes: CrossOver     X360\n",
       "4830                    18 Wheeler: American Pro Trucker      PS2\n",
       "10075                   18 Wheeler: American Pro Trucker       GC\n",
       "8894                                    187: Ride or Die      PS2\n",
       "12253                                   187: Ride or Die       XB\n",
       "3770   2 in 1 Combo Pack: Sonic Heroes / Super Monkey...       XB"
      ]
     },
     "execution_count": 3,
     "metadata": {},
     "output_type": "execute_result"
    }
   ],
   "source": [
    "game.info()\n",
    "\n",
    "print(\"\\nPlatform:\\n\",game.Platform.unique(),\"\\nCount: \",game.Platform.nunique())\n",
    "print(\"\\nYear\\n\",game.Year.unique(),\"\\nCount: \",game.Year.nunique())\n",
    "print(\"\\nGenre\\n\",game.Genre.unique(),\"\\nCount: \",game.Genre.nunique())\n",
    "print(\"\\nPublishers\\n\",game.Publisher.unique()[0:15],\"\\nCount: \",game.Publisher.nunique())\n",
    "\n",
    "print(game.sort_values(\"NA_Sales\",ascending=False).head(5).iloc[:,0:6])\n",
    "print(game.sort_values(\"EU_Sales\",ascending=False).head(5).iloc[:,0:6])\n",
    "print(game.sort_values(\"JP_Sales\",ascending=False).head(5).iloc[:,0:6])\n",
    "print(game.sort_values(\"Global_Sales\",ascending=False).head(5).iloc[:,0:6])\n",
    "\n",
    "print(game.groupby(\"Year\").size())\n",
    "print(game.groupby(\"Genre\").size())\n",
    "print(game.groupby(\"Platform\").size())\n",
    "\n",
    "nulls = game[game.isna().any(axis=1)] #List of games with nulls in any field \n",
    "game.sort_values(\"Name\").loc[game.Name.isin(game.Name[game.Name.duplicated()]),[\"Name\",\"Platform\"]].head(15) #Game titles that show up on multiple platforms "
   ]
  },
  {
   "cell_type": "markdown",
   "metadata": {},
   "source": [
    "#### 4. Initial thoughts?\n",
    "- We have null values in Year and Publisher (Total of 307 rows with NaN values)\n",
    "- Year is a float, we could probably turn it into an int to make it prettier\n",
    "- We have 31 unique Platforms\n",
    "- We have 39 unique years (one being NaN)\n",
    "- We have 12 unique genres\n",
    "- We have 578 unique publishers\n",
    "- Looking at the top games in each region EU and NA are more similar in taste than JP\n",
    "    -JP loves their Pokemon\n",
    "    -Nintendo is the dominating Publisher in all regions \n",
    "- Years with the most releases are 2006 to 2011 with a peak of 1431 releases in 2009."
   ]
  },
  {
   "cell_type": "markdown",
   "metadata": {},
   "source": [
    "#### 5. Wrangling\n",
    "The main concern would be the NaN values."
   ]
  },
  {
   "cell_type": "code",
   "execution_count": 4,
   "metadata": {},
   "outputs": [
    {
     "name": "stdout",
     "output_type": "stream",
     "text": [
      "Year\n",
      "2004.0    19\n",
      "2005.0     5\n",
      "2007.0     1\n",
      "2010.0     2\n",
      "2011.0     3\n",
      "2012.0     2\n",
      "2014.0     2\n",
      "2016.0     2\n",
      "dtype: int64\n",
      "Genre\n",
      "Action          65\n",
      "Adventure       12\n",
      "Fighting        12\n",
      "Misc            53\n",
      "Platform        11\n",
      "Puzzle          12\n",
      "Racing          24\n",
      "Role-Playing    18\n",
      "Shooter         28\n",
      "Simulation      19\n",
      "Sports          42\n",
      "Strategy        11\n",
      "dtype: int64\n",
      "Platform\n",
      "2600    17\n",
      "3DS     10\n",
      "DS      32\n",
      "GB       1\n",
      "GBA     36\n",
      "GC      14\n",
      "N64      3\n",
      "PC      22\n",
      "PS       7\n",
      "PS2     34\n",
      "PS3     25\n",
      "PSP     16\n",
      "PSV      3\n",
      "Wii     35\n",
      "X360    31\n",
      "XB      21\n",
      "dtype: int64\n"
     ]
    },
    {
     "data": {
      "text/html": [
       "<div>\n",
       "<style scoped>\n",
       "    .dataframe tbody tr th:only-of-type {\n",
       "        vertical-align: middle;\n",
       "    }\n",
       "\n",
       "    .dataframe tbody tr th {\n",
       "        vertical-align: top;\n",
       "    }\n",
       "\n",
       "    .dataframe thead th {\n",
       "        text-align: right;\n",
       "    }\n",
       "</style>\n",
       "<table border=\"1\" class=\"dataframe\">\n",
       "  <thead>\n",
       "    <tr style=\"text-align: right;\">\n",
       "      <th></th>\n",
       "      <th>Rank</th>\n",
       "      <th>Name</th>\n",
       "      <th>Platform</th>\n",
       "      <th>Year</th>\n",
       "      <th>Genre</th>\n",
       "      <th>Publisher</th>\n",
       "      <th>Region</th>\n",
       "      <th>Sales</th>\n",
       "    </tr>\n",
       "  </thead>\n",
       "  <tbody>\n",
       "    <tr>\n",
       "      <th>0</th>\n",
       "      <td>1</td>\n",
       "      <td>Wii Sports</td>\n",
       "      <td>Wii</td>\n",
       "      <td>2006</td>\n",
       "      <td>Sports</td>\n",
       "      <td>Nintendo</td>\n",
       "      <td>NA_Sales</td>\n",
       "      <td>41.49</td>\n",
       "    </tr>\n",
       "    <tr>\n",
       "      <th>1</th>\n",
       "      <td>2</td>\n",
       "      <td>Super Mario Bros.</td>\n",
       "      <td>NES</td>\n",
       "      <td>1985</td>\n",
       "      <td>Platform</td>\n",
       "      <td>Nintendo</td>\n",
       "      <td>NA_Sales</td>\n",
       "      <td>29.08</td>\n",
       "    </tr>\n",
       "    <tr>\n",
       "      <th>2</th>\n",
       "      <td>3</td>\n",
       "      <td>Mario Kart Wii</td>\n",
       "      <td>Wii</td>\n",
       "      <td>2008</td>\n",
       "      <td>Racing</td>\n",
       "      <td>Nintendo</td>\n",
       "      <td>NA_Sales</td>\n",
       "      <td>15.85</td>\n",
       "    </tr>\n",
       "    <tr>\n",
       "      <th>3</th>\n",
       "      <td>4</td>\n",
       "      <td>Wii Sports Resort</td>\n",
       "      <td>Wii</td>\n",
       "      <td>2009</td>\n",
       "      <td>Sports</td>\n",
       "      <td>Nintendo</td>\n",
       "      <td>NA_Sales</td>\n",
       "      <td>15.75</td>\n",
       "    </tr>\n",
       "    <tr>\n",
       "      <th>4</th>\n",
       "      <td>5</td>\n",
       "      <td>Pokemon Red/Pokemon Blue</td>\n",
       "      <td>GB</td>\n",
       "      <td>1996</td>\n",
       "      <td>Role-Playing</td>\n",
       "      <td>Nintendo</td>\n",
       "      <td>NA_Sales</td>\n",
       "      <td>11.27</td>\n",
       "    </tr>\n",
       "    <tr>\n",
       "      <th>...</th>\n",
       "      <td>...</td>\n",
       "      <td>...</td>\n",
       "      <td>...</td>\n",
       "      <td>...</td>\n",
       "      <td>...</td>\n",
       "      <td>...</td>\n",
       "      <td>...</td>\n",
       "      <td>...</td>\n",
       "    </tr>\n",
       "    <tr>\n",
       "      <th>82985</th>\n",
       "      <td>16596</td>\n",
       "      <td>Woody Woodpecker in Crazy Castle 5</td>\n",
       "      <td>GBA</td>\n",
       "      <td>2002</td>\n",
       "      <td>Platform</td>\n",
       "      <td>Kemco</td>\n",
       "      <td>Global_Sales</td>\n",
       "      <td>0.01</td>\n",
       "    </tr>\n",
       "    <tr>\n",
       "      <th>82986</th>\n",
       "      <td>16597</td>\n",
       "      <td>Men in Black II: Alien Escape</td>\n",
       "      <td>GC</td>\n",
       "      <td>2003</td>\n",
       "      <td>Shooter</td>\n",
       "      <td>Infogrames</td>\n",
       "      <td>Global_Sales</td>\n",
       "      <td>0.01</td>\n",
       "    </tr>\n",
       "    <tr>\n",
       "      <th>82987</th>\n",
       "      <td>16598</td>\n",
       "      <td>SCORE International Baja 1000: The Official Game</td>\n",
       "      <td>PS2</td>\n",
       "      <td>2008</td>\n",
       "      <td>Racing</td>\n",
       "      <td>Activision</td>\n",
       "      <td>Global_Sales</td>\n",
       "      <td>0.01</td>\n",
       "    </tr>\n",
       "    <tr>\n",
       "      <th>82988</th>\n",
       "      <td>16599</td>\n",
       "      <td>Know How 2</td>\n",
       "      <td>DS</td>\n",
       "      <td>2010</td>\n",
       "      <td>Puzzle</td>\n",
       "      <td>7G//AMES</td>\n",
       "      <td>Global_Sales</td>\n",
       "      <td>0.01</td>\n",
       "    </tr>\n",
       "    <tr>\n",
       "      <th>82989</th>\n",
       "      <td>16600</td>\n",
       "      <td>Spirits &amp; Spells</td>\n",
       "      <td>GBA</td>\n",
       "      <td>2003</td>\n",
       "      <td>Platform</td>\n",
       "      <td>Wanadoo</td>\n",
       "      <td>Global_Sales</td>\n",
       "      <td>0.01</td>\n",
       "    </tr>\n",
       "  </tbody>\n",
       "</table>\n",
       "<p>82990 rows × 8 columns</p>\n",
       "</div>"
      ],
      "text/plain": [
       "        Rank                                              Name Platform  Year  \\\n",
       "0          1                                        Wii Sports      Wii  2006   \n",
       "1          2                                 Super Mario Bros.      NES  1985   \n",
       "2          3                                    Mario Kart Wii      Wii  2008   \n",
       "3          4                                 Wii Sports Resort      Wii  2009   \n",
       "4          5                          Pokemon Red/Pokemon Blue       GB  1996   \n",
       "...      ...                                               ...      ...   ...   \n",
       "82985  16596                Woody Woodpecker in Crazy Castle 5      GBA  2002   \n",
       "82986  16597                     Men in Black II: Alien Escape       GC  2003   \n",
       "82987  16598  SCORE International Baja 1000: The Official Game      PS2  2008   \n",
       "82988  16599                                        Know How 2       DS  2010   \n",
       "82989  16600                                  Spirits & Spells      GBA  2003   \n",
       "\n",
       "              Genre   Publisher        Region  Sales  \n",
       "0            Sports    Nintendo      NA_Sales  41.49  \n",
       "1          Platform    Nintendo      NA_Sales  29.08  \n",
       "2            Racing    Nintendo      NA_Sales  15.85  \n",
       "3            Sports    Nintendo      NA_Sales  15.75  \n",
       "4      Role-Playing    Nintendo      NA_Sales  11.27  \n",
       "...             ...         ...           ...    ...  \n",
       "82985      Platform       Kemco  Global_Sales   0.01  \n",
       "82986       Shooter  Infogrames  Global_Sales   0.01  \n",
       "82987        Racing  Activision  Global_Sales   0.01  \n",
       "82988        Puzzle    7G//AMES  Global_Sales   0.01  \n",
       "82989      Platform     Wanadoo  Global_Sales   0.01  \n",
       "\n",
       "[82990 rows x 8 columns]"
      ]
     },
     "execution_count": 4,
     "metadata": {},
     "output_type": "execute_result"
    }
   ],
   "source": [
    "game.Year = game.Year.astype(\"Int64\")\n",
    "print(nulls.groupby(\"Year\").size())\n",
    "print(nulls.groupby(\"Genre\").size())\n",
    "print(nulls.groupby(\"Platform\").size())\n",
    "\n",
    "#For the analysis of sales - melting the NA,EU,JP,Other and Total columns\n",
    "game_melt = game.melt(id_vars=[\"Rank\", \"Name\",\"Platform\",\"Year\",\"Genre\",\"Publisher\"], \n",
    "        var_name=\"Region\", \n",
    "        value_name=\"Sales\").reset_index(drop=True)\n",
    "game_melt"
   ]
  },
  {
   "cell_type": "markdown",
   "metadata": {},
   "source": [
    "#### 6. Research Questions/Visualization+Analysis"
   ]
  },
  {
   "cell_type": "code",
   "execution_count": 217,
   "metadata": {},
   "outputs": [],
   "source": [
    "#1) Basic Exploratory visualisations of things we noted in the Initial Thoughts\n",
    "#Counts of number of games in each genre, platform and number of games released in each year\n",
    "#Genre and Platform counts are coloured by number of counts and sorted from largest to smallest\n",
    "#Year counts are coloured by year and sorted from largest to smallest \n",
    "sorted_genre_count = list(game.groupby(\"Genre\").size().sort_values(ascending=False).index)\n",
    "sorted_year_count = list(game.groupby(\"Year\").size().sort_values(ascending=False).index)\n",
    "sorted_platform_count = list(game.groupby(\"Platform\").size().sort_values(ascending=False).index)\n",
    "\n",
    "genre_count = alt.Chart(game).mark_bar().encode(\n",
    "    alt.X(\"Genre\",type=\"nominal\",sort=sorted_genre_count),\n",
    "    alt.Y(\"count()\",title=\"Number of games\",type=\"quantitative\"),\n",
    "    alt.Color(\"count()\",scale=alt.Scale(scheme='category20b'),legend=None),\n",
    "    alt.Tooltip(\"count()\"))\n",
    "\n",
    "year_count = alt.Chart(game).mark_bar().encode(\n",
    "    alt.X(\"Year\",type=\"ordinal\",sort=sorted_year_count),\n",
    "    alt.Y(\"count()\",title=\"Number of games\",type=\"quantitative\"),\n",
    "    alt.Color(\"Year\",scale=alt.Scale(scheme='category20c')),\n",
    "    alt.Tooltip(\"count()\"))\n",
    "\n",
    "platform_count = alt.Chart(game).mark_bar().encode(\n",
    "    alt.X(\"Platform\",type=\"nominal\",sort=sorted_platform_count),\n",
    "    alt.Y(\"count()\",title=\"Number of games\",type=\"quantitative\"),\n",
    "    alt.Color(\"count()\",scale=alt.Scale(scheme='category20b'),legend=None),\n",
    "    alt.Tooltip(\"count()\"))\n",
    "\n",
    "count_plots = ((genre_count.properties(width=333)|platform_count.properties(width=666)).resolve_scale(color='independent')\n",
    "               &year_count.properties(width=1000)).resolve_scale(color='independent').configure_axis(\n",
    "                labelFontSize=12,\n",
    "                titleFontSize=13)\n",
    "count_plots = count_plots.properties(title={\"text\": \"Number of games released by Genre, Platform and Year\", \n",
    "      \"subtitle\": [\"Counts only include games that have sold more than 100,000 copies. Bars for the Genre and Platform plot are coloured by number of games.\",\"\"]}).configure_title(fontSize = 25,subtitleFontSize=15)"
   ]
  },
  {
   "cell_type": "code",
   "execution_count": 135,
   "metadata": {},
   "outputs": [
    {
     "data": {
      "application/vnd.vegalite.v4+json": {
       "$schema": "https://vega.github.io/schema/vega-lite/v4.8.1.json",
       "config": {
        "axis": {
         "labelFontSize": 12,
         "titleFontSize": 13
        },
        "title": {
         "fontSize": 25,
         "subtitleFontSize": 15
        },
        "view": {
         "continuousHeight": 300,
         "continuousWidth": 400
        }
       },
       "data": {
        "url": "http://localhost:19323/6b3d515f813da00c4e7b534a5ba924b2.json"
       },
       "hconcat": [
        {
         "layer": [
          {
           "encoding": {
            "color": {
             "field": "Region",
             "scale": {
              "scheme": "set1"
             },
             "type": "nominal"
            },
            "tooltip": {
             "field": "Region",
             "type": "nominal"
            },
            "x": {
             "field": "Genre",
             "sort": [
              "Action",
              "Sports",
              "Shooter",
              "Role-Playing",
              "Platform",
              "Misc",
              "Racing",
              "Fighting",
              "Simulation",
              "Puzzle",
              "Adventure",
              "Strategy"
             ],
             "type": "nominal"
            },
            "y": {
             "aggregate": "sum",
             "field": "Sales",
             "stack": null,
             "title": "Total Number of Sales (in millions)",
             "type": "quantitative"
            }
           },
           "mark": {
            "opacity": 0.5,
            "type": "bar"
           }
          },
          {
           "encoding": {
            "color": {
             "field": "Region",
             "scale": {
              "scheme": "set1"
             },
             "type": "nominal"
            },
            "tooltip": {
             "field": "Region",
             "type": "nominal"
            },
            "x": {
             "field": "Genre",
             "sort": [
              "Action",
              "Sports",
              "Shooter",
              "Role-Playing",
              "Platform",
              "Misc",
              "Racing",
              "Fighting",
              "Simulation",
              "Puzzle",
              "Adventure",
              "Strategy"
             ],
             "type": "nominal"
            },
            "y": {
             "aggregate": "sum",
             "field": "Sales",
             "stack": null,
             "title": "Total Number of Sales (in millions)",
             "type": "quantitative"
            }
           },
           "mark": "circle"
          }
         ]
        },
        {
         "layer": [
          {
           "encoding": {
            "color": {
             "field": "Region",
             "type": "nominal"
            },
            "tooltip": {
             "field": "Region",
             "type": "nominal"
            },
            "x": {
             "field": "Genre",
             "sort": [
              "Action",
              "Sports",
              "Shooter",
              "Role-Playing",
              "Platform",
              "Misc",
              "Racing",
              "Fighting",
              "Simulation",
              "Puzzle",
              "Adventure",
              "Strategy"
             ],
             "type": "nominal"
            },
            "y": {
             "aggregate": "mean",
             "field": "Sales",
             "stack": null,
             "title": "Average Number of Sales (in millions)",
             "type": "quantitative"
            }
           },
           "mark": {
            "opacity": 0.5,
            "type": "bar"
           }
          },
          {
           "encoding": {
            "color": {
             "field": "Region",
             "type": "nominal"
            },
            "tooltip": {
             "field": "Region",
             "type": "nominal"
            },
            "x": {
             "field": "Genre",
             "sort": [
              "Action",
              "Sports",
              "Shooter",
              "Role-Playing",
              "Platform",
              "Misc",
              "Racing",
              "Fighting",
              "Simulation",
              "Puzzle",
              "Adventure",
              "Strategy"
             ],
             "type": "nominal"
            },
            "y": {
             "aggregate": "mean",
             "field": "Sales",
             "stack": null,
             "title": "Average Number of Sales (in millions)",
             "type": "quantitative"
            }
           },
           "mark": "circle"
          }
         ]
        }
       ],
       "title": {
        "subtitle": "Bars and points represent number of sales in millions and coloured by Region.\n",
        "text": "Comparing sales in each region by genre."
       }
      },
      "image/png": "[encoded data removed]",
      "text/plain": [
       "<VegaLite 4 object>\n",
       "\n",
       "If you see this message, it means the renderer has not been properly enabled\n",
       "for the frontend that you are using. For more information, see\n",
       "https://altair-viz.github.io/user_guide/troubleshooting.html\n"
      ]
     },
     "execution_count": 135,
     "metadata": {},
     "output_type": "execute_result"
    }
   ],
   "source": [
    "#2) Lets look at sales across Genres for each Region\n",
    "#Genres are sorted by decreasing Global Sales (Action is most sales vs Strategy is least)\n",
    "#Notice we see Shooters - while having fewer games released, still sold a lot of copies meaning their titles seemed to do well and the same (to a larger extent) can be said about Platformers.\n",
    "#Looking at the means of each genre, we can see exacly as we noticed above with the mean number of sales in the Shooter/Platform genre now ahead of the rest. \n",
    "#It is also interesting to see the trend across genres. We see NA, EU and Other sale patters tend to be more similar while JP sale patterns are distinct from the other regions, with a large emphasis on RPG, Platformers. \n",
    "sales_data = game_melt.loc[game_melt.Region != \"Global_Sales\",:]\n",
    "sorted_genre_totalsales = list(game.groupby(\"Genre\").sum().sort_values(\"Global_Sales\",ascending=False).index)\n",
    "\n",
    "genre_sales = alt.Chart(sales_data).mark_bar(opacity=0.5).encode(\n",
    "    alt.X(\"Genre\",type=\"nominal\",sort=sorted_genre_totalsales),\n",
    "    alt.Y(\"sum(Sales)\",title=\"Total Number of Sales (in millions)\",type=\"quantitative\",stack=None),\n",
    "    alt.Color(\"Region\",scale=alt.Scale(scheme='set1'),type=\"nominal\"),\n",
    "    alt.Tooltip(\"Region\"))\n",
    "genre_sales = genre_sales+genre_sales.mark_circle()\n",
    "genre_mean_sales = alt.Chart(sales_data).mark_bar(opacity=0.5).encode(\n",
    "    alt.X(\"Genre\",type=\"nominal\",sort=sorted_genre_totalsales),\n",
    "    alt.Y(\"mean(Sales)\",title=\"Average Number of Sales (in millions)\",type=\"quantitative\",stack=None),\n",
    "    alt.Color(\"Region\",type=\"nominal\"),\n",
    "    alt.Tooltip(\"Region\"))\n",
    "\n",
    "genre_mean_sales = genre_mean_sales + genre_mean_sales.mark_circle()\n",
    "genre_plots = (genre_sales | genre_mean_sales).properties(title={\"text\":\"Comparing sales in each region by genre.\",\"subtitle\":[\"Bars and points represent number of sales in millions and coloured by Region.\",\"\"]}).configure_axis(\n",
    "                labelFontSize=12,\n",
    "                titleFontSize=13).configure_title(fontSize = 25,subtitleFontSize=15) "
   ]
  },
  {
   "cell_type": "code",
   "execution_count": 215,
   "metadata": {},
   "outputs": [],
   "source": [
    "#3) Lets investigate what's going on in each region. We can do so by looking at individual title by region and color the points by genre. Scatter plot: Top 3 games in each genre for each region \n",
    "    #This might help us explain and point out individual game titles that are dominating their genre.\n",
    "sorted_genre_NA = list(sales_data[sales_data.Region==\"NA_Sales\"].groupby(\"Genre\").sum().sort_values(\"Sales\",ascending=False).index)    \n",
    "sorted_genre_EU = list(sales_data[sales_data.Region==\"EU_Sales\"].groupby(\"Genre\").sum().sort_values(\"Sales\",ascending=False).index)      \n",
    "sorted_genre_JP = list(sales_data[sales_data.Region==\"JP_Sales\"].groupby(\"Genre\").sum().sort_values(\"Sales\",ascending=False).index)    \n",
    "sorted_genre_OT = list(sales_data[sales_data.Region==\"Other_Sales\"].groupby(\"Genre\").sum().sort_values(\"Sales\",ascending=False).index)    \n",
    "\n",
    "genre_region = alt.Chart(sales_data).mark_bar(opacity=0.5).encode(\n",
    "    alt.Y(\"Region\",type=\"nominal\",sort=sorted_genre_totalsales),\n",
    "    alt.X(\"sum(Sales)\",title=\"Total Number of Sales (in millions)\",type=\"quantitative\",stack=None),\n",
    "    alt.Color(\"Region\",scale=alt.Scale(scheme='set1'),type=\"nominal\",legend=None))\n",
    "\n",
    "title_NA =alt.Chart(sales_data[sales_data.Region==\"NA_Sales\"]).mark_circle(size=50).encode(\n",
    "    alt.X(\"Genre\",sort=sorted_genre_NA),\n",
    "    alt.Y(\"Sales:Q\",stack=None, title=\"Sales (in millions)\"),\n",
    "    alt.Color(\"Genre\",scale=alt.Scale(scheme='category20')),\n",
    "    alt.Tooltip(\"Name\"))\n",
    "title_NA = title_NA + alt.Chart(sales_data[sales_data.Region==\"NA_Sales\"].sort_values(\"Sales\",ascending=False).iloc[:5,]).mark_text(align = \"left\", dx=10).encode(\n",
    "    alt.X(\"Genre\",sort=sorted_genre_NA),\n",
    "    alt.Y(\"Sales:Q\"),\n",
    "    text=\"Name\").properties(title=\"NA Sales\")\n",
    "\n",
    "title_JP =alt.Chart(sales_data[sales_data.Region==\"JP_Sales\"]).mark_circle(size=50).encode(\n",
    "    alt.X(\"Genre\",sort=sorted_genre_JP),\n",
    "    alt.Y(\"Sales:Q\",stack=None,title=None),\n",
    "    alt.Color(\"Genre\",scale=alt.Scale(scheme='category20')),\n",
    "    alt.Tooltip(\"Name\"))\n",
    "title_JP = title_JP + alt.Chart(sales_data[sales_data.Region==\"JP_Sales\"].sort_values(\"Sales\",ascending=False).iloc[:5,]).mark_text(align = \"left\", dx=10).encode(\n",
    "    alt.X(\"Genre\",sort=sorted_genre_JP),\n",
    "    alt.Y(\"Sales:Q\"),\n",
    "    text=\"Name\").properties(title=\"JP Sales\")\n",
    "\n",
    "title_EU =alt.Chart(sales_data[sales_data.Region==\"EU_Sales\"]).mark_circle(size=50).encode(\n",
    "    alt.X(\"Genre\",sort=sorted_genre_EU),\n",
    "    alt.Y(\"Sales:Q\",stack=None,title=None),\n",
    "    alt.Color(\"Genre\",scale=alt.Scale(scheme='category20')),\n",
    "    alt.Tooltip(\"Name\"))\n",
    "title_EU = title_EU + alt.Chart(sales_data[sales_data.Region==\"EU_Sales\"].sort_values(\"Sales\",ascending=False).iloc[:5,]).mark_text(align = \"left\", dx=10).encode(\n",
    "    alt.X(\"Genre\",sort=sorted_genre_EU),\n",
    "    alt.Y(\"Sales:Q\"),\n",
    "    text=\"Name\").properties(title=\"EU Sales\")\n",
    "\n",
    "title_OT =alt.Chart(sales_data[sales_data.Region==\"Other_Sales\"]).mark_circle(size=50).encode(\n",
    "    alt.X(\"Genre\",sort=sorted_genre_OT),\n",
    "    alt.Y(\"Sales:Q\",stack=None,title=None),\n",
    "    alt.Color(\"Genre\",scale=alt.Scale(scheme='category20')),\n",
    "    alt.Tooltip(\"Name\"))\n",
    "\n",
    "title_OT = title_OT + alt.Chart(sales_data[sales_data.Region==\"Other_Sales\"].sort_values(\"Sales\",ascending=False).iloc[:5,]).mark_text(align = \"left\", dx=10).encode(\n",
    "    alt.X(\"Genre\",sort=sorted_genre_OT),\n",
    "    alt.Y(\"Sales:Q\"),\n",
    "    text=\"Name\").properties(title=\"Other Sales\")\n",
    "\n",
    "name_sales = (title_NA.properties(width=250) | title_EU.properties(width=250) | title_JP.properties(width=250) | title_OT.properties(width=250))\n",
    "name_sales = name_sales & genre_region.properties(width=1210).resolve_scale(color='independent')\n",
    "name_sales = name_sales.properties(title={\"text\":\"Distribution of games titles across each Region by Genre.\",\"subtitle\":[\"Top 5 games in each region are labelled (labels are to the right of point). Overall Regional perfomance shown below.\",\"\"]}).configure_axis(\n",
    "                labelFontSize=12,\n",
    "                titleFontSize=13).configure_title(fontSize = 20,subtitleFontSize=15) "
   ]
  },
  {
   "cell_type": "markdown",
   "metadata": {},
   "source": [
    "1) **Basic Exploratory visualizations of things we noted in the 'Initial Thoughts'**\n",
    "- Counts of number of games in each genre, platform and number of games released in each year\n",
    "- Genre and Platform counts are colored by number of counts and sorted from largest to smallest\n",
    "- Year counts are colored by year and sorted from largest to smallest \n",
    "- We see Action is quite ahead of other genres in terms of numbers of games released, followed by Sports\n",
    "- We see DS and PS2 have the highest number of games released in terms of Platform. \n",
    "- The years 2006-2011 have the highest number of game released. \n",
    "\n",
    "There are a ton of different ways to analyze this data set, lets just look at Genres for now."
   ]
  },
  {
   "cell_type": "code",
   "execution_count": 218,
   "metadata": {},
   "outputs": [
    {
     "data": {
      "application/vnd.vegalite.v4+json": {
       "$schema": "https://vega.github.io/schema/vega-lite/v4.8.1.json",
       "config": {
        "axis": {
         "labelFontSize": 12,
         "titleFontSize": 13
        },
        "title": {
         "fontSize": 25,
         "subtitleFontSize": 15
        },
        "view": {
         "continuousHeight": 300,
         "continuousWidth": 400
        }
       },
       "data": {
        "url": "http://localhost:19323/c994c709d08a6a2bc7a001b12f3c59f4.json"
       },
       "resolve": {
        "scale": {
         "color": "independent"
        }
       },
       "title": {
        "subtitle": [
         "Counts only include games that have sold more than 100,000 copies. Bars for the Genre and Platform plot are coloured by number of games.",
         ""
        ],
        "text": "Number of games released by Genre, Platform and Year"
       },
       "vconcat": [
        {
         "hconcat": [
          {
           "encoding": {
            "color": {
             "aggregate": "count",
             "legend": null,
             "scale": {
              "scheme": "category20b"
             },
             "type": "quantitative"
            },
            "tooltip": {
             "aggregate": "count",
             "type": "quantitative"
            },
            "x": {
             "field": "Genre",
             "sort": [
              "Action",
              "Sports",
              "Misc",
              "Role-Playing",
              "Shooter",
              "Adventure",
              "Racing",
              "Platform",
              "Simulation",
              "Fighting",
              "Strategy",
              "Puzzle"
             ],
             "type": "nominal"
            },
            "y": {
             "aggregate": "count",
             "title": "Number of games",
             "type": "quantitative"
            }
           },
           "mark": "bar",
           "width": 333
          },
          {
           "encoding": {
            "color": {
             "aggregate": "count",
             "legend": null,
             "scale": {
              "scheme": "category20b"
             },
             "type": "quantitative"
            },
            "tooltip": {
             "aggregate": "count",
             "type": "quantitative"
            },
            "x": {
             "field": "Platform",
             "sort": [
              "DS",
              "PS2",
              "PS3",
              "Wii",
              "X360",
              "PSP",
              "PS",
              "PC",
              "XB",
              "GBA",
              "GC",
              "3DS",
              "PSV",
              "PS4",
              "N64",
              "SNES",
              "XOne",
              "SAT",
              "WiiU",
              "2600",
              "NES",
              "GB",
              "DC",
              "GEN",
              "NG",
              "SCD",
              "WS",
              "3DO",
              "TG16",
              "PCFX",
              "GG"
             ],
             "type": "nominal"
            },
            "y": {
             "aggregate": "count",
             "title": "Number of games",
             "type": "quantitative"
            }
           },
           "mark": "bar",
           "width": 666
          }
         ],
         "resolve": {
          "scale": {
           "color": "independent"
          }
         }
        },
        {
         "encoding": {
          "color": {
           "field": "Year",
           "scale": {
            "scheme": "category20c"
           },
           "type": "quantitative"
          },
          "tooltip": {
           "aggregate": "count",
           "type": "quantitative"
          },
          "x": {
           "field": "Year",
           "sort": [
            2009,
            2008,
            2010,
            2007,
            2011,
            2006,
            2005,
            2002,
            2003,
            2004,
            2012,
            2015,
            2014,
            2013,
            2001,
            1998,
            2000,
            2016,
            1999,
            1997,
            1996,
            1995,
            1994,
            1993,
            1981,
            1992,
            1991,
            1982,
            1986,
            1989,
            1983,
            1990,
            1987,
            1988,
            1985,
            1984,
            1980,
            2017,
            2020
           ],
           "type": "ordinal"
          },
          "y": {
           "aggregate": "count",
           "title": "Number of games",
           "type": "quantitative"
          }
         },
         "mark": "bar",
         "width": 1000
        }
       ]
      },
      "image/png": "[encoded data removed]",
      "text/plain": [
       "<VegaLite 4 object>\n",
       "\n",
       "If you see this message, it means the renderer has not been properly enabled\n",
       "for the frontend that you are using. For more information, see\n",
       "https://altair-viz.github.io/user_guide/troubleshooting.html\n"
      ]
     },
     "execution_count": 218,
     "metadata": {},
     "output_type": "execute_result"
    }
   ],
   "source": [
    "count_plots"
   ]
  },
  {
   "cell_type": "markdown",
   "metadata": {},
   "source": [
    "2) **Sales across Genres for each Region**\n",
    "- Genres are sorted by decreasing Global Sales (Action is most sales vs Strategy is least)\n",
    "- Notice we see Shooters - while having fewer games released, still sold a lot of copies meaning their titles seemed to do well and the same (to a larger extent) can be said about Platformers.\n",
    "- Looking at the means of each genre, we can see exactly as we noticed above with the mean number of sales in the Shooter/Platform genre now ahead of the rest. \n",
    "- It is also interesting to see the trend across genres. We see NA, EU and Other sale patters tend to be more similar while JP sale patterns are distinct from the other regions, with a large emphasis on RPG, Platformers.\n",
    "\n",
    "Lets investigate what's going on in each region. We can do so by looking at individual titles by region. This might help us explain and point out individual game titles that are dominating their genre."
   ]
  },
  {
   "cell_type": "code",
   "execution_count": 219,
   "metadata": {},
   "outputs": [
    {
     "data": {
      "application/vnd.vegalite.v4+json": {
       "$schema": "https://vega.github.io/schema/vega-lite/v4.8.1.json",
       "config": {
        "axis": {
         "labelFontSize": 12,
         "titleFontSize": 13
        },
        "title": {
         "fontSize": 25,
         "subtitleFontSize": 15
        },
        "view": {
         "continuousHeight": 300,
         "continuousWidth": 400
        }
       },
       "data": {
        "url": "http://localhost:19323/6b3d515f813da00c4e7b534a5ba924b2.json"
       },
       "hconcat": [
        {
         "layer": [
          {
           "encoding": {
            "color": {
             "field": "Region",
             "scale": {
              "scheme": "set1"
             },
             "type": "nominal"
            },
            "tooltip": {
             "field": "Region",
             "type": "nominal"
            },
            "x": {
             "field": "Genre",
             "sort": [
              "Action",
              "Sports",
              "Shooter",
              "Role-Playing",
              "Platform",
              "Misc",
              "Racing",
              "Fighting",
              "Simulation",
              "Puzzle",
              "Adventure",
              "Strategy"
             ],
             "type": "nominal"
            },
            "y": {
             "aggregate": "sum",
             "field": "Sales",
             "stack": null,
             "title": "Total Number of Sales (in millions)",
             "type": "quantitative"
            }
           },
           "mark": {
            "opacity": 0.5,
            "type": "bar"
           }
          },
          {
           "encoding": {
            "color": {
             "field": "Region",
             "scale": {
              "scheme": "set1"
             },
             "type": "nominal"
            },
            "tooltip": {
             "field": "Region",
             "type": "nominal"
            },
            "x": {
             "field": "Genre",
             "sort": [
              "Action",
              "Sports",
              "Shooter",
              "Role-Playing",
              "Platform",
              "Misc",
              "Racing",
              "Fighting",
              "Simulation",
              "Puzzle",
              "Adventure",
              "Strategy"
             ],
             "type": "nominal"
            },
            "y": {
             "aggregate": "sum",
             "field": "Sales",
             "stack": null,
             "title": "Total Number of Sales (in millions)",
             "type": "quantitative"
            }
           },
           "mark": "circle"
          }
         ]
        },
        {
         "layer": [
          {
           "encoding": {
            "color": {
             "field": "Region",
             "type": "nominal"
            },
            "tooltip": {
             "field": "Region",
             "type": "nominal"
            },
            "x": {
             "field": "Genre",
             "sort": [
              "Action",
              "Sports",
              "Shooter",
              "Role-Playing",
              "Platform",
              "Misc",
              "Racing",
              "Fighting",
              "Simulation",
              "Puzzle",
              "Adventure",
              "Strategy"
             ],
             "type": "nominal"
            },
            "y": {
             "aggregate": "mean",
             "field": "Sales",
             "stack": null,
             "title": "Average Number of Sales (in millions)",
             "type": "quantitative"
            }
           },
           "mark": {
            "opacity": 0.5,
            "type": "bar"
           }
          },
          {
           "encoding": {
            "color": {
             "field": "Region",
             "type": "nominal"
            },
            "tooltip": {
             "field": "Region",
             "type": "nominal"
            },
            "x": {
             "field": "Genre",
             "sort": [
              "Action",
              "Sports",
              "Shooter",
              "Role-Playing",
              "Platform",
              "Misc",
              "Racing",
              "Fighting",
              "Simulation",
              "Puzzle",
              "Adventure",
              "Strategy"
             ],
             "type": "nominal"
            },
            "y": {
             "aggregate": "mean",
             "field": "Sales",
             "stack": null,
             "title": "Average Number of Sales (in millions)",
             "type": "quantitative"
            }
           },
           "mark": "circle"
          }
         ]
        }
       ],
       "title": {
        "subtitle": "Bars and points represent number of sales in millions and coloured by Region.\n",
        "text": "Comparing sales in each region by genre."
       }
      },
      "image/png": "[encoded data removed]",
      "text/plain": [
       "<VegaLite 4 object>\n",
       "\n",
       "If you see this message, it means the renderer has not been properly enabled\n",
       "for the frontend that you are using. For more information, see\n",
       "https://altair-viz.github.io/user_guide/troubleshooting.html\n"
      ]
     },
     "execution_count": 219,
     "metadata": {},
     "output_type": "execute_result"
    }
   ],
   "source": [
    "genre_plots"
   ]
  },
  {
   "cell_type": "markdown",
   "metadata": {},
   "source": [
    "3) **Distribution of game titles by Genre across each Region**\n",
    "- The top 5 titles in each region across genres are labeled. The genres are also sorted by most sales (left) to least sales (right). \n",
    "- Just by looking at the scales, it seems NA sells the most copies, followed by EU, JP and Other. This is also re-enforced by the bar plot below showing the total number of copies sold (in millions) by region. \n",
    "- Looking at genres across regions, we see NA, EU and Other are similar (as concluded from the plot before). While Action and Sports are still in the Top 3 genres for JP, we see RPG being first and Shooters being last.\n",
    "- We see NA, EU and Other having similar Top 5 games, all having Wii Sports and Mario Kart.\n",
    "- The JP region seems to love their RPG games which makes sense as they even have a subcategory named after them (JRPGs - Japanese RPGs)\n",
    "- We see the bulk of games in most regions (except Other) lie around or below the 5 million copies sold mark and relatively few titles make it above."
   ]
  },
  {
   "cell_type": "code",
   "execution_count": 220,
   "metadata": {},
   "outputs": [
    {
     "data": {
      "application/vnd.vegalite.v4+json": {
       "$schema": "https://vega.github.io/schema/vega-lite/v4.8.1.json",
       "config": {
        "axis": {
         "labelFontSize": 12,
         "titleFontSize": 13
        },
        "title": {
         "fontSize": 20,
         "subtitleFontSize": 15
        },
        "view": {
         "continuousHeight": 300,
         "continuousWidth": 400
        }
       },
       "title": {
        "subtitle": [
         "Top 5 games in each region are labelled (labels are to the right of point). Overall Regional perfomance shown below.\n",
         ""
        ],
        "text": "Distribution of games titles across each Region by Genre.\n"
       },
       "vconcat": [
        {
         "hconcat": [
          {
           "layer": [
            {
             "data": {
              "url": "http://localhost:19323/f65161f1798a2ac887337aaad0cb7a8b.json"
             },
             "encoding": {
              "color": {
               "field": "Genre",
               "scale": {
                "scheme": "category20"
               },
               "type": "nominal"
              },
              "tooltip": {
               "field": "Name",
               "type": "nominal"
              },
              "x": {
               "field": "Genre",
               "sort": [
                "Action",
                "Sports",
                "Shooter",
                "Platform",
                "Misc",
                "Racing",
                "Role-Playing",
                "Fighting",
                "Simulation",
                "Puzzle",
                "Adventure",
                "Strategy"
               ],
               "type": "nominal"
              },
              "y": {
               "field": "Sales",
               "stack": null,
               "title": "Sales (in millions)",
               "type": "quantitative"
              }
             },
             "mark": {
              "size": 50,
              "type": "circle"
             }
            },
            {
             "data": {
              "url": "http://localhost:19323/51dd0f701d7c6ea5cbdc28f740c6e9ed.json"
             },
             "encoding": {
              "text": {
               "field": "Name",
               "type": "nominal"
              },
              "x": {
               "field": "Genre",
               "sort": [
                "Action",
                "Sports",
                "Shooter",
                "Platform",
                "Misc",
                "Racing",
                "Role-Playing",
                "Fighting",
                "Simulation",
                "Puzzle",
                "Adventure",
                "Strategy"
               ],
               "type": "nominal"
              },
              "y": {
               "field": "Sales",
               "type": "quantitative"
              }
             },
             "mark": {
              "align": "left",
              "dx": 10,
              "type": "text"
             },
             "title": "NA Sales"
            }
           ],
           "width": 250
          },
          {
           "layer": [
            {
             "data": {
              "url": "http://localhost:19323/2ee1bfd81837f47f23c628706b88ad07.json"
             },
             "encoding": {
              "color": {
               "field": "Genre",
               "scale": {
                "scheme": "category20"
               },
               "type": "nominal"
              },
              "tooltip": {
               "field": "Name",
               "type": "nominal"
              },
              "x": {
               "field": "Genre",
               "sort": [
                "Action",
                "Sports",
                "Shooter",
                "Racing",
                "Misc",
                "Platform",
                "Role-Playing",
                "Simulation",
                "Fighting",
                "Adventure",
                "Puzzle",
                "Strategy"
               ],
               "type": "nominal"
              },
              "y": {
               "field": "Sales",
               "stack": null,
               "title": null,
               "type": "quantitative"
              }
             },
             "mark": {
              "size": 50,
              "type": "circle"
             }
            },
            {
             "data": {
              "url": "http://localhost:19323/859b1030017bdc5bd84c8af24e8e1631.json"
             },
             "encoding": {
              "text": {
               "field": "Name",
               "type": "nominal"
              },
              "x": {
               "field": "Genre",
               "sort": [
                "Action",
                "Sports",
                "Shooter",
                "Racing",
                "Misc",
                "Platform",
                "Role-Playing",
                "Simulation",
                "Fighting",
                "Adventure",
                "Puzzle",
                "Strategy"
               ],
               "type": "nominal"
              },
              "y": {
               "field": "Sales",
               "type": "quantitative"
              }
             },
             "mark": {
              "align": "left",
              "dx": 10,
              "type": "text"
             },
             "title": "EU Sales"
            }
           ],
           "width": 250
          },
          {
           "layer": [
            {
             "data": {
              "url": "http://localhost:19323/51693b0061798cba9106440c000e2be6.json"
             },
             "encoding": {
              "color": {
               "field": "Genre",
               "scale": {
                "scheme": "category20"
               },
               "type": "nominal"
              },
              "tooltip": {
               "field": "Name",
               "type": "nominal"
              },
              "x": {
               "field": "Genre",
               "sort": [
                "Role-Playing",
                "Action",
                "Sports",
                "Platform",
                "Misc",
                "Fighting",
                "Simulation",
                "Puzzle",
                "Racing",
                "Adventure",
                "Strategy",
                "Shooter"
               ],
               "type": "nominal"
              },
              "y": {
               "field": "Sales",
               "stack": null,
               "title": null,
               "type": "quantitative"
              }
             },
             "mark": {
              "size": 50,
              "type": "circle"
             }
            },
            {
             "data": {
              "url": "http://localhost:19323/601f637a710e8794ec375b1896704880.json"
             },
             "encoding": {
              "text": {
               "field": "Name",
               "type": "nominal"
              },
              "x": {
               "field": "Genre",
               "sort": [
                "Role-Playing",
                "Action",
                "Sports",
                "Platform",
                "Misc",
                "Fighting",
                "Simulation",
                "Puzzle",
                "Racing",
                "Adventure",
                "Strategy",
                "Shooter"
               ],
               "type": "nominal"
              },
              "y": {
               "field": "Sales",
               "type": "quantitative"
              }
             },
             "mark": {
              "align": "left",
              "dx": 10,
              "type": "text"
             },
             "title": "JP Sales"
            }
           ],
           "width": 250
          },
          {
           "layer": [
            {
             "data": {
              "url": "http://localhost:19323/5dd7b7e6fbbf845ec4f06bc9b23db8af.json"
             },
             "encoding": {
              "color": {
               "field": "Genre",
               "scale": {
                "scheme": "category20"
               },
               "type": "nominal"
              },
              "tooltip": {
               "field": "Name",
               "type": "nominal"
              },
              "x": {
               "field": "Genre",
               "sort": [
                "Action",
                "Sports",
                "Shooter",
                "Racing",
                "Misc",
                "Role-Playing",
                "Platform",
                "Fighting",
                "Simulation",
                "Adventure",
                "Puzzle",
                "Strategy"
               ],
               "type": "nominal"
              },
              "y": {
               "field": "Sales",
               "stack": null,
               "title": null,
               "type": "quantitative"
              }
             },
             "mark": {
              "size": 50,
              "type": "circle"
             }
            },
            {
             "data": {
              "url": "http://localhost:19323/56281a5259a17fe2efbabef7e4f2c5b4.json"
             },
             "encoding": {
              "text": {
               "field": "Name",
               "type": "nominal"
              },
              "x": {
               "field": "Genre",
               "sort": [
                "Action",
                "Sports",
                "Shooter",
                "Racing",
                "Misc",
                "Role-Playing",
                "Platform",
                "Fighting",
                "Simulation",
                "Adventure",
                "Puzzle",
                "Strategy"
               ],
               "type": "nominal"
              },
              "y": {
               "field": "Sales",
               "type": "quantitative"
              }
             },
             "mark": {
              "align": "left",
              "dx": 10,
              "type": "text"
             },
             "title": "Other Sales"
            }
           ],
           "width": 250
          }
         ]
        },
        {
         "data": {
          "url": "http://localhost:19323/6b3d515f813da00c4e7b534a5ba924b2.json"
         },
         "encoding": {
          "color": {
           "field": "Region",
           "legend": null,
           "scale": {
            "scheme": "set1"
           },
           "type": "nominal"
          },
          "x": {
           "aggregate": "sum",
           "field": "Sales",
           "stack": null,
           "title": "Total Number of Sales (in millions)",
           "type": "quantitative"
          },
          "y": {
           "field": "Region",
           "sort": [
            "Action",
            "Sports",
            "Shooter",
            "Role-Playing",
            "Platform",
            "Misc",
            "Racing",
            "Fighting",
            "Simulation",
            "Puzzle",
            "Adventure",
            "Strategy"
           ],
           "type": "nominal"
          }
         },
         "mark": {
          "opacity": 0.5,
          "type": "bar"
         },
         "resolve": {
          "scale": {
           "color": "independent"
          }
         },
         "width": 1210
        }
       ]
      },
      "image/png": "[encoded data removed]",
      "text/plain": [
       "<VegaLite 4 object>\n",
       "\n",
       "If you see this message, it means the renderer has not been properly enabled\n",
       "for the frontend that you are using. For more information, see\n",
       "https://altair-viz.github.io/user_guide/troubleshooting.html\n"
      ]
     },
     "execution_count": 220,
     "metadata": {},
     "output_type": "execute_result"
    }
   ],
   "source": [
    "name_sales"
   ]
  },
  {
   "cell_type": "markdown",
   "metadata": {},
   "source": [
    "#### 7. Future Studies"
   ]
  },
  {
   "cell_type": "code",
   "execution_count": null,
   "metadata": {},
   "outputs": [],
   "source": []
  },
  {
   "cell_type": "code",
   "execution_count": null,
   "metadata": {},
   "outputs": [],
   "source": []
  },
  {
   "cell_type": "code",
   "execution_count": null,
   "metadata": {},
   "outputs": [],
   "source": []
  }
 ],
 "metadata": {
  "kernelspec": {
   "display_name": "Python 3",
   "language": "python",
   "name": "python3"
  },
  "language_info": {
   "codemirror_mode": {
    "name": "ipython",
    "version": 3
   },
   "file_extension": ".py",
   "mimetype": "text/x-python",
   "name": "python",
   "nbconvert_exporter": "python",
   "pygments_lexer": "ipython3",
   "version": "3.8.3"
  }
 },
 "nbformat": 4,
 "nbformat_minor": 4
}
