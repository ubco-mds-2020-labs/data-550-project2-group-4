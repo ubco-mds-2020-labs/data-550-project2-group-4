{
 "cells": [
  {
   "cell_type": "markdown",
   "metadata": {},
   "source": [
    "### Video Games Dataset: EDA\n",
    "#### 1. Describe Dataset\n",
    "- **Who:** The data was acquired from Kaggle and supplied by the user Gregory Smith (https://www.kaggle.com/gregorut/videogamesales). The data was scraped from www.vgchartz.com. \n",
    "- **What:** The dataset contains a list of video games with sales greater than 100,000 from 1980 to 2011. It contains information such as the platform the game was made available, year of release, genre, publisher, sales in NA, sales in JP, sales in EU, sales in the rest of the world and global sales (total). The data set also includes the rank of games in terms of overall sales. **NOTE: Sales are in millions**\n",
    "- **When:** The data set was last updated 4 years ago but contains games released from 1980 to seemingly 2017. \n",
    "- **Why:** The video game industry is a very competitive yet profitable industry. While big companies with large amounts of resources have an edge over smaller companies, we have recently seen many small companies finding huge success. Not only in game creation but in the case of streamers for example, playing a game before it becomes mainstream might give you an edge against bigger name streamers. With this data set, we are able to gain insight into general idea such as performance of companies, most popular titles and genres. We are also able to dive deeper and look at changing genre popularities over time, regional preference in game genres/platforms, upcoming developer etc.  \n",
    "- **How:** The data set was scraped from the www.vgzchartz.com website using BeautifulSoup. The scraping script can be found here (https://github.com/GregorUT/vgchartzScrape)"
   ]
  },
  {
   "cell_type": "markdown",
   "metadata": {},
   "source": [
    "#### 2. Load Dataset"
   ]
  },
  {
   "cell_type": "code",
   "execution_count": 1,
   "metadata": {},
   "outputs": [
    {
     "data": {
      "text/plain": [
       "DataTransformerRegistry.enable('data_server')"
      ]
     },
     "execution_count": 1,
     "metadata": {},
     "output_type": "execute_result"
    }
   ],
   "source": [
    "import pandas as pd\n",
    "import numpy as np\n",
    "import altair as alt\n",
    "# from altair_saver import save\n",
    "alt.renderers.enable('mimetype')\n",
    "alt.data_transformers.enable('data_server')"
   ]
  },
  {
   "cell_type": "code",
   "execution_count": 2,
   "metadata": {},
   "outputs": [],
   "source": [
    "game = pd.read_csv(\"vgsales.csv\")"
   ]
  },
  {
   "cell_type": "markdown",
   "metadata": {},
   "source": [
    "#### 3. Explore Dataset"
   ]
  },
  {
   "cell_type": "code",
   "execution_count": 3,
   "metadata": {},
   "outputs": [
    {
     "name": "stdout",
     "output_type": "stream",
     "text": [
      "<class 'pandas.core.frame.DataFrame'>\n",
      "RangeIndex: 16598 entries, 0 to 16597\n",
      "Data columns (total 11 columns):\n",
      " #   Column        Non-Null Count  Dtype  \n",
      "---  ------        --------------  -----  \n",
      " 0   Rank          16598 non-null  int64  \n",
      " 1   Name          16598 non-null  object \n",
      " 2   Platform      16598 non-null  object \n",
      " 3   Year          16327 non-null  float64\n",
      " 4   Genre         16598 non-null  object \n",
      " 5   Publisher     16540 non-null  object \n",
      " 6   NA_Sales      16598 non-null  float64\n",
      " 7   EU_Sales      16598 non-null  float64\n",
      " 8   JP_Sales      16598 non-null  float64\n",
      " 9   Other_Sales   16598 non-null  float64\n",
      " 10  Global_Sales  16598 non-null  float64\n",
      "dtypes: float64(6), int64(1), object(4)\n",
      "memory usage: 1.4+ MB\n",
      "\n",
      "Platform:\n",
      " ['Wii' 'NES' 'GB' 'DS' 'X360' 'PS3' 'PS2' 'SNES' 'GBA' '3DS' 'PS4' 'N64'\n",
      " 'PS' 'XB' 'PC' '2600' 'PSP' 'XOne' 'GC' 'WiiU' 'GEN' 'DC' 'PSV' 'SAT'\n",
      " 'SCD' 'WS' 'NG' 'TG16' '3DO' 'GG' 'PCFX'] \n",
      "Count:  31\n",
      "\n",
      "Year\n",
      " [2006. 1985. 2008. 2009. 1996. 1989. 1984. 2005. 1999. 2007. 2010. 2013.\n",
      " 2004. 1990. 1988. 2002. 2001. 2011. 1998. 2015. 2012. 2014. 1992. 1997.\n",
      " 1993. 1994. 1982. 2003. 1986. 2000.   nan 1995. 2016. 1991. 1981. 1987.\n",
      " 1980. 1983. 2020. 2017.] \n",
      "Count:  39\n",
      "\n",
      "Genre\n",
      " ['Sports' 'Platform' 'Racing' 'Role-Playing' 'Puzzle' 'Misc' 'Shooter'\n",
      " 'Simulation' 'Action' 'Fighting' 'Adventure' 'Strategy'] \n",
      "Count:  12\n",
      "\n",
      "Publishers\n",
      " ['Nintendo' 'Microsoft Game Studios' 'Take-Two Interactive'\n",
      " 'Sony Computer Entertainment' 'Activision' 'Ubisoft' 'Bethesda Softworks'\n",
      " 'Electronic Arts' 'Sega' 'SquareSoft' 'Atari' '505 Games' 'Capcom'\n",
      " 'GT Interactive' 'Konami Digital Entertainment'] \n",
      "Count:  578\n",
      "   Rank               Name Platform    Year     Genre Publisher\n",
      "0     1         Wii Sports      Wii  2006.0    Sports  Nintendo\n",
      "1     2  Super Mario Bros.      NES  1985.0  Platform  Nintendo\n",
      "9    10          Duck Hunt      NES  1984.0   Shooter  Nintendo\n",
      "5     6             Tetris       GB  1989.0    Puzzle  Nintendo\n",
      "2     3     Mario Kart Wii      Wii  2008.0    Racing  Nintendo\n",
      "    Rank                Name Platform    Year       Genre  \\\n",
      "0      1          Wii Sports      Wii  2006.0      Sports   \n",
      "2      3      Mario Kart Wii      Wii  2008.0      Racing   \n",
      "3      4   Wii Sports Resort      Wii  2009.0      Sports   \n",
      "10    11          Nintendogs       DS  2005.0  Simulation   \n",
      "16    17  Grand Theft Auto V      PS3  2013.0      Action   \n",
      "\n",
      "               Publisher  \n",
      "0               Nintendo  \n",
      "2               Nintendo  \n",
      "3               Nintendo  \n",
      "10              Nintendo  \n",
      "16  Take-Two Interactive  \n",
      "    Rank                           Name Platform    Year         Genre  \\\n",
      "4      5       Pokemon Red/Pokemon Blue       GB  1996.0  Role-Playing   \n",
      "12    13    Pokemon Gold/Pokemon Silver       GB  1999.0  Role-Playing   \n",
      "1      2              Super Mario Bros.      NES  1985.0      Platform   \n",
      "6      7          New Super Mario Bros.       DS  2006.0      Platform   \n",
      "20    21  Pokemon Diamond/Pokemon Pearl       DS  2006.0  Role-Playing   \n",
      "\n",
      "   Publisher  \n",
      "4   Nintendo  \n",
      "12  Nintendo  \n",
      "1   Nintendo  \n",
      "6   Nintendo  \n",
      "20  Nintendo  \n",
      "   Rank                      Name Platform    Year         Genre Publisher\n",
      "0     1                Wii Sports      Wii  2006.0        Sports  Nintendo\n",
      "1     2         Super Mario Bros.      NES  1985.0      Platform  Nintendo\n",
      "2     3            Mario Kart Wii      Wii  2008.0        Racing  Nintendo\n",
      "3     4         Wii Sports Resort      Wii  2009.0        Sports  Nintendo\n",
      "4     5  Pokemon Red/Pokemon Blue       GB  1996.0  Role-Playing  Nintendo\n",
      "Year\n",
      "1980.0       9\n",
      "1981.0      46\n",
      "1982.0      36\n",
      "1983.0      17\n",
      "1984.0      14\n",
      "1985.0      14\n",
      "1986.0      21\n",
      "1987.0      16\n",
      "1988.0      15\n",
      "1989.0      17\n",
      "1990.0      16\n",
      "1991.0      41\n",
      "1992.0      43\n",
      "1993.0      60\n",
      "1994.0     121\n",
      "1995.0     219\n",
      "1996.0     263\n",
      "1997.0     289\n",
      "1998.0     379\n",
      "1999.0     338\n",
      "2000.0     349\n",
      "2001.0     482\n",
      "2002.0     829\n",
      "2003.0     775\n",
      "2004.0     763\n",
      "2005.0     941\n",
      "2006.0    1008\n",
      "2007.0    1202\n",
      "2008.0    1428\n",
      "2009.0    1431\n",
      "2010.0    1259\n",
      "2011.0    1139\n",
      "2012.0     657\n",
      "2013.0     546\n",
      "2014.0     582\n",
      "2015.0     614\n",
      "2016.0     344\n",
      "2017.0       3\n",
      "2020.0       1\n",
      "dtype: int64\n",
      "Genre\n",
      "Action          3316\n",
      "Adventure       1286\n",
      "Fighting         848\n",
      "Misc            1739\n",
      "Platform         886\n",
      "Puzzle           582\n",
      "Racing          1249\n",
      "Role-Playing    1488\n",
      "Shooter         1310\n",
      "Simulation       867\n",
      "Sports          2346\n",
      "Strategy         681\n",
      "dtype: int64\n",
      "Platform\n",
      "2600     133\n",
      "3DO        3\n",
      "3DS      509\n",
      "DC        52\n",
      "DS      2163\n",
      "GB        98\n",
      "GBA      822\n",
      "GC       556\n",
      "GEN       27\n",
      "GG         1\n",
      "N64      319\n",
      "NES       98\n",
      "NG        12\n",
      "PC       960\n",
      "PCFX       1\n",
      "PS      1196\n",
      "PS2     2161\n",
      "PS3     1329\n",
      "PS4      336\n",
      "PSP     1213\n",
      "PSV      413\n",
      "SAT      173\n",
      "SCD        6\n",
      "SNES     239\n",
      "TG16       2\n",
      "WS         6\n",
      "Wii     1325\n",
      "WiiU     143\n",
      "X360    1265\n",
      "XB       824\n",
      "XOne     213\n",
      "dtype: int64\n"
     ]
    },
    {
     "data": {
      "text/html": [
       "<div>\n",
       "<style scoped>\n",
       "    .dataframe tbody tr th:only-of-type {\n",
       "        vertical-align: middle;\n",
       "    }\n",
       "\n",
       "    .dataframe tbody tr th {\n",
       "        vertical-align: top;\n",
       "    }\n",
       "\n",
       "    .dataframe thead th {\n",
       "        text-align: right;\n",
       "    }\n",
       "</style>\n",
       "<table border=\"1\" class=\"dataframe\">\n",
       "  <thead>\n",
       "    <tr style=\"text-align: right;\">\n",
       "      <th></th>\n",
       "      <th>Rank</th>\n",
       "      <th>Name</th>\n",
       "      <th>Platform</th>\n",
       "      <th>Year</th>\n",
       "      <th>Genre</th>\n",
       "      <th>Publisher</th>\n",
       "      <th>NA_Sales</th>\n",
       "      <th>EU_Sales</th>\n",
       "      <th>JP_Sales</th>\n",
       "      <th>Other_Sales</th>\n",
       "      <th>Global_Sales</th>\n",
       "    </tr>\n",
       "  </thead>\n",
       "  <tbody>\n",
       "    <tr>\n",
       "      <th>179</th>\n",
       "      <td>180</td>\n",
       "      <td>Madden NFL 2004</td>\n",
       "      <td>PS2</td>\n",
       "      <td>NaN</td>\n",
       "      <td>Sports</td>\n",
       "      <td>Electronic Arts</td>\n",
       "      <td>4.26</td>\n",
       "      <td>0.26</td>\n",
       "      <td>0.01</td>\n",
       "      <td>0.71</td>\n",
       "      <td>5.23</td>\n",
       "    </tr>\n",
       "    <tr>\n",
       "      <th>377</th>\n",
       "      <td>378</td>\n",
       "      <td>FIFA Soccer 2004</td>\n",
       "      <td>PS2</td>\n",
       "      <td>NaN</td>\n",
       "      <td>Sports</td>\n",
       "      <td>Electronic Arts</td>\n",
       "      <td>0.59</td>\n",
       "      <td>2.36</td>\n",
       "      <td>0.04</td>\n",
       "      <td>0.51</td>\n",
       "      <td>3.49</td>\n",
       "    </tr>\n",
       "    <tr>\n",
       "      <th>431</th>\n",
       "      <td>432</td>\n",
       "      <td>LEGO Batman: The Videogame</td>\n",
       "      <td>Wii</td>\n",
       "      <td>NaN</td>\n",
       "      <td>Action</td>\n",
       "      <td>Warner Bros. Interactive Entertainment</td>\n",
       "      <td>1.86</td>\n",
       "      <td>1.02</td>\n",
       "      <td>0.00</td>\n",
       "      <td>0.29</td>\n",
       "      <td>3.17</td>\n",
       "    </tr>\n",
       "    <tr>\n",
       "      <th>470</th>\n",
       "      <td>471</td>\n",
       "      <td>wwe Smackdown vs. Raw 2006</td>\n",
       "      <td>PS2</td>\n",
       "      <td>NaN</td>\n",
       "      <td>Fighting</td>\n",
       "      <td>NaN</td>\n",
       "      <td>1.57</td>\n",
       "      <td>1.02</td>\n",
       "      <td>0.00</td>\n",
       "      <td>0.41</td>\n",
       "      <td>3.00</td>\n",
       "    </tr>\n",
       "    <tr>\n",
       "      <th>607</th>\n",
       "      <td>608</td>\n",
       "      <td>Space Invaders</td>\n",
       "      <td>2600</td>\n",
       "      <td>NaN</td>\n",
       "      <td>Shooter</td>\n",
       "      <td>Atari</td>\n",
       "      <td>2.36</td>\n",
       "      <td>0.14</td>\n",
       "      <td>0.00</td>\n",
       "      <td>0.03</td>\n",
       "      <td>2.53</td>\n",
       "    </tr>\n",
       "    <tr>\n",
       "      <th>...</th>\n",
       "      <td>...</td>\n",
       "      <td>...</td>\n",
       "      <td>...</td>\n",
       "      <td>...</td>\n",
       "      <td>...</td>\n",
       "      <td>...</td>\n",
       "      <td>...</td>\n",
       "      <td>...</td>\n",
       "      <td>...</td>\n",
       "      <td>...</td>\n",
       "      <td>...</td>\n",
       "    </tr>\n",
       "    <tr>\n",
       "      <th>16427</th>\n",
       "      <td>16430</td>\n",
       "      <td>Virtua Quest</td>\n",
       "      <td>GC</td>\n",
       "      <td>NaN</td>\n",
       "      <td>Role-Playing</td>\n",
       "      <td>Unknown</td>\n",
       "      <td>0.01</td>\n",
       "      <td>0.00</td>\n",
       "      <td>0.00</td>\n",
       "      <td>0.00</td>\n",
       "      <td>0.01</td>\n",
       "    </tr>\n",
       "    <tr>\n",
       "      <th>16493</th>\n",
       "      <td>16496</td>\n",
       "      <td>The Smurfs</td>\n",
       "      <td>3DS</td>\n",
       "      <td>NaN</td>\n",
       "      <td>Action</td>\n",
       "      <td>Unknown</td>\n",
       "      <td>0.00</td>\n",
       "      <td>0.01</td>\n",
       "      <td>0.00</td>\n",
       "      <td>0.00</td>\n",
       "      <td>0.01</td>\n",
       "    </tr>\n",
       "    <tr>\n",
       "      <th>16494</th>\n",
       "      <td>16497</td>\n",
       "      <td>Legends of Oz: Dorothy's Return</td>\n",
       "      <td>3DS</td>\n",
       "      <td>2014.0</td>\n",
       "      <td>Puzzle</td>\n",
       "      <td>NaN</td>\n",
       "      <td>0.00</td>\n",
       "      <td>0.01</td>\n",
       "      <td>0.00</td>\n",
       "      <td>0.00</td>\n",
       "      <td>0.01</td>\n",
       "    </tr>\n",
       "    <tr>\n",
       "      <th>16543</th>\n",
       "      <td>16546</td>\n",
       "      <td>Driving Simulator 2011</td>\n",
       "      <td>PC</td>\n",
       "      <td>2011.0</td>\n",
       "      <td>Racing</td>\n",
       "      <td>NaN</td>\n",
       "      <td>0.00</td>\n",
       "      <td>0.01</td>\n",
       "      <td>0.00</td>\n",
       "      <td>0.00</td>\n",
       "      <td>0.01</td>\n",
       "    </tr>\n",
       "    <tr>\n",
       "      <th>16553</th>\n",
       "      <td>16556</td>\n",
       "      <td>Bound By Flame</td>\n",
       "      <td>X360</td>\n",
       "      <td>2014.0</td>\n",
       "      <td>Role-Playing</td>\n",
       "      <td>NaN</td>\n",
       "      <td>0.00</td>\n",
       "      <td>0.01</td>\n",
       "      <td>0.00</td>\n",
       "      <td>0.00</td>\n",
       "      <td>0.01</td>\n",
       "    </tr>\n",
       "  </tbody>\n",
       "</table>\n",
       "<p>307 rows × 11 columns</p>\n",
       "</div>"
      ],
      "text/plain": [
       "        Rank                             Name Platform    Year         Genre  \\\n",
       "179      180                  Madden NFL 2004      PS2     NaN        Sports   \n",
       "377      378                 FIFA Soccer 2004      PS2     NaN        Sports   \n",
       "431      432       LEGO Batman: The Videogame      Wii     NaN        Action   \n",
       "470      471       wwe Smackdown vs. Raw 2006      PS2     NaN      Fighting   \n",
       "607      608                   Space Invaders     2600     NaN       Shooter   \n",
       "...      ...                              ...      ...     ...           ...   \n",
       "16427  16430                     Virtua Quest       GC     NaN  Role-Playing   \n",
       "16493  16496                       The Smurfs      3DS     NaN        Action   \n",
       "16494  16497  Legends of Oz: Dorothy's Return      3DS  2014.0        Puzzle   \n",
       "16543  16546           Driving Simulator 2011       PC  2011.0        Racing   \n",
       "16553  16556                   Bound By Flame     X360  2014.0  Role-Playing   \n",
       "\n",
       "                                    Publisher  NA_Sales  EU_Sales  JP_Sales  \\\n",
       "179                           Electronic Arts      4.26      0.26      0.01   \n",
       "377                           Electronic Arts      0.59      2.36      0.04   \n",
       "431    Warner Bros. Interactive Entertainment      1.86      1.02      0.00   \n",
       "470                                       NaN      1.57      1.02      0.00   \n",
       "607                                     Atari      2.36      0.14      0.00   \n",
       "...                                       ...       ...       ...       ...   \n",
       "16427                                 Unknown      0.01      0.00      0.00   \n",
       "16493                                 Unknown      0.00      0.01      0.00   \n",
       "16494                                     NaN      0.00      0.01      0.00   \n",
       "16543                                     NaN      0.00      0.01      0.00   \n",
       "16553                                     NaN      0.00      0.01      0.00   \n",
       "\n",
       "       Other_Sales  Global_Sales  \n",
       "179           0.71          5.23  \n",
       "377           0.51          3.49  \n",
       "431           0.29          3.17  \n",
       "470           0.41          3.00  \n",
       "607           0.03          2.53  \n",
       "...            ...           ...  \n",
       "16427         0.00          0.01  \n",
       "16493         0.00          0.01  \n",
       "16494         0.00          0.01  \n",
       "16543         0.00          0.01  \n",
       "16553         0.00          0.01  \n",
       "\n",
       "[307 rows x 11 columns]"
      ]
     },
     "execution_count": 3,
     "metadata": {},
     "output_type": "execute_result"
    }
   ],
   "source": [
    "game.info()\n",
    "\n",
    "print(\"\\nPlatform:\\n\",game.Platform.unique(),\"\\nCount: \",game.Platform.nunique())\n",
    "print(\"\\nYear\\n\",game.Year.unique(),\"\\nCount: \",game.Year.nunique())\n",
    "print(\"\\nGenre\\n\",game.Genre.unique(),\"\\nCount: \",game.Genre.nunique())\n",
    "print(\"\\nPublishers\\n\",game.Publisher.unique()[0:15],\"\\nCount: \",game.Publisher.nunique())\n",
    "\n",
    "print(game.sort_values(\"NA_Sales\",ascending=False).head(5).iloc[:,0:6])\n",
    "print(game.sort_values(\"EU_Sales\",ascending=False).head(5).iloc[:,0:6])\n",
    "print(game.sort_values(\"JP_Sales\",ascending=False).head(5).iloc[:,0:6])\n",
    "print(game.sort_values(\"Global_Sales\",ascending=False).head(5).iloc[:,0:6])\n",
    "\n",
    "print(game.groupby(\"Year\").size())\n",
    "print(game.groupby(\"Genre\").size())\n",
    "print(game.groupby(\"Platform\").size())\n",
    "\n",
    "nulls = game[game.isna().any(axis=1)]\n",
    "nulls"
   ]
  },
  {
   "cell_type": "markdown",
   "metadata": {},
   "source": [
    "#### 4. Initial thoughts?\n",
    "- We have null values in Year and Publisher (Total of 307 rows with NaN values)\n",
    "- Year is a float, we could probably turn it into an int to make it prettier\n",
    "- We have 31 unique Platforms\n",
    "- We have 39 unique years (one being NaN)\n",
    "- We have 12 unique genres\n",
    "- We have 578 unique publishers\n",
    "- Looking at the top games in each region EU and NA are more similar in taste than JP\n",
    "    -JP loves their Pokemon\n",
    "    -Nintendo is the dominating Publisher in all regions \n",
    "- Years with the most releases are 2006 to 2011 with a peak of 1431 releases in 2009."
   ]
  },
  {
   "cell_type": "markdown",
   "metadata": {},
   "source": [
    "#### 5. Wrangling\n",
    "The main concern would be the NaN values. In my oppinion, "
   ]
  },
  {
   "cell_type": "code",
   "execution_count": 4,
   "metadata": {},
   "outputs": [
    {
     "name": "stdout",
     "output_type": "stream",
     "text": [
      "Year\n",
      "2004.0    19\n",
      "2005.0     5\n",
      "2007.0     1\n",
      "2010.0     2\n",
      "2011.0     3\n",
      "2012.0     2\n",
      "2014.0     2\n",
      "2016.0     2\n",
      "dtype: int64\n",
      "Genre\n",
      "Action          65\n",
      "Adventure       12\n",
      "Fighting        12\n",
      "Misc            53\n",
      "Platform        11\n",
      "Puzzle          12\n",
      "Racing          24\n",
      "Role-Playing    18\n",
      "Shooter         28\n",
      "Simulation      19\n",
      "Sports          42\n",
      "Strategy        11\n",
      "dtype: int64\n",
      "Platform\n",
      "2600    17\n",
      "3DS     10\n",
      "DS      32\n",
      "GB       1\n",
      "GBA     36\n",
      "GC      14\n",
      "N64      3\n",
      "PC      22\n",
      "PS       7\n",
      "PS2     34\n",
      "PS3     25\n",
      "PSP     16\n",
      "PSV      3\n",
      "Wii     35\n",
      "X360    31\n",
      "XB      21\n",
      "dtype: int64\n"
     ]
    }
   ],
   "source": [
    "#game.Year = game.Year.astype(\"Int64\")\n",
    "print(nulls.groupby(\"Year\").size())\n",
    "print(nulls.groupby(\"Genre\").size())\n",
    "print(nulls.groupby(\"Platform\").size())"
   ]
  },
  {
   "cell_type": "markdown",
   "metadata": {},
   "source": [
    "#### 6. Research Questions/Visualization+Analysis"
   ]
  },
  {
   "cell_type": "markdown",
   "metadata": {},
   "source": [
    "## Aamir Plots"
   ]
  },
  {
   "cell_type": "markdown",
   "metadata": {},
   "source": [
    "### 1. Top Three Years with Maximum Number of Games released per Genre"
   ]
  },
  {
   "cell_type": "code",
   "execution_count": 5,
   "metadata": {},
   "outputs": [
    {
     "data": {
      "application/vnd.vegalite.v4+json": {
       "$schema": "https://vega.github.io/schema/vega-lite/v4.8.1.json",
       "config": {
        "view": {
         "continuousHeight": 300,
         "continuousWidth": 400,
         "stroke": "transparent"
        }
       },
       "data": {
        "url": "http://localhost:15576/620fbef177edf582a13f115d0d3fb66e.json"
       },
       "facet": {
        "column": {
         "field": "Year",
         "header": {
          "title": null
         },
         "type": "ordinal"
        }
       },
       "resolve": {
        "scale": {
         "x": "independent"
        }
       },
       "spec": {
        "encoding": {
         "color": {
          "field": "Genre",
          "type": "nominal"
         },
         "tooltip": [
          {
           "field": "Genre",
           "type": "nominal"
          },
          {
           "field": "Year",
           "type": "ordinal"
          },
          {
           "aggregate": "count",
           "field": "Genre",
           "title": "Number of Games Released",
           "type": "quantitative"
          }
         ],
         "x": {
          "field": "Genre",
          "sort": {
           "field": "Genre:N",
           "op": "count",
           "order": "descending"
          },
          "type": "nominal"
         },
         "y": {
          "aggregate": "count",
          "field": "Genre",
          "type": "quantitative"
         }
        },
        "mark": "bar"
       }
      },
      "image/png": "[encoded data removed]",
      "text/plain": [
       "<VegaLite 4 object>\n",
       "\n",
       "If you see this message, it means the renderer has not been properly enabled\n",
       "for the frontend that you are using. For more information, see\n",
       "https://altair-viz.github.io/user_guide/troubleshooting.html\n"
      ]
     },
     "execution_count": 5,
     "metadata": {},
     "output_type": "execute_result"
    }
   ],
   "source": [
    "idx = game.groupby([\"Year\"]).size().nlargest(3).index\n",
    "\n",
    "alt.Chart(game[game.Year.isin(idx)]).mark_bar().encode(\n",
    "    x=alt.X('Genre:N',         \n",
    "            sort=alt.EncodingSortField(field='Genre:N', \n",
    "                                       op='count', \n",
    "                                       order='descending')),\n",
    "    y='count(Genre):Q',\n",
    "    color='Genre:N',\n",
    "    tooltip=['Genre:N', \n",
    "             'Year:O', \n",
    "             alt.Tooltip('count(Genre):Q',\n",
    "                         title='Number of Games Released')]\n",
    ").facet(\n",
    "    column=alt.Column('Year:O', \n",
    "                      header=alt.Header(title=None)),\n",
    ").resolve_scale(\n",
    "    x='independent').configure_view(\n",
    "    stroke='transparent'\n",
    ")"
   ]
  },
  {
   "cell_type": "markdown",
   "metadata": {},
   "source": [
    "### Annual Global Sales Numbers"
   ]
  },
  {
   "cell_type": "code",
   "execution_count": 6,
   "metadata": {},
   "outputs": [
    {
     "data": {
      "application/vnd.vegalite.v4+json": {
       "$schema": "https://vega.github.io/schema/vega-lite/v4.8.1.json",
       "config": {
        "view": {
         "continuousHeight": 300,
         "continuousWidth": 400
        }
       },
       "data": {
        "url": "http://localhost:15576/b07db38f3a0f7c9e277674635b765a29.json"
       },
       "encoding": {
        "x": {
         "field": "Year",
         "type": "nominal"
        },
        "y": {
         "aggregate": "max",
         "axis": {
          "title": "Annual Global Sales"
         },
         "field": "Global_Sales",
         "type": "quantitative"
        }
       },
       "mark": {
        "point": true,
        "type": "line"
       }
      },
      "image/png": "[encoded data removed]",
      "text/plain": [
       "<VegaLite 4 object>\n",
       "\n",
       "If you see this message, it means the renderer has not been properly enabled\n",
       "for the frontend that you are using. For more information, see\n",
       "https://altair-viz.github.io/user_guide/troubleshooting.html\n"
      ]
     },
     "execution_count": 6,
     "metadata": {},
     "output_type": "execute_result"
    }
   ],
   "source": [
    "# plt.figure(figsize=(15, 10))\n",
    "# sns.barplot(x=\"Year\", y=\"Global_Sales\", data=data_year)\n",
    "# plt.xticks(rotation=90)\n",
    "\n",
    "alt.Chart(game).mark_line(point=True).encode(\n",
    "    x='Year:N',\n",
    "    y=alt.Y('max(Global_Sales):Q', axis=alt.Axis(title='Annual Global Sales'))\n",
    ")"
   ]
  },
  {
   "cell_type": "markdown",
   "metadata": {},
   "source": [
    "### Games Popularity per Genre over the Years"
   ]
  },
  {
   "cell_type": "code",
   "execution_count": 93,
   "metadata": {},
   "outputs": [
    {
     "data": {
      "application/vnd.vegalite.v4+json": {
       "$schema": "https://vega.github.io/schema/vega-lite/v4.8.1.json",
       "config": {
        "view": {
         "continuousHeight": 300,
         "continuousWidth": 400
        }
       },
       "data": {
        "url": "http://localhost:22333/b07db38f3a0f7c9e277674635b765a29.json"
       },
       "encoding": {
        "color": {
         "field": "Genre",
         "type": "nominal"
        },
        "x": {
         "field": "Year",
         "type": "ordinal"
        },
        "y": {
         "aggregate": "sum",
         "field": "Global_Sales",
         "type": "quantitative"
        }
       },
       "mark": "bar"
      },
      "image/png": "[encoded data removed]",
      "text/plain": [
       "<VegaLite 4 object>\n",
       "\n",
       "If you see this message, it means the renderer has not been properly enabled\n",
       "for the frontend that you are using. For more information, see\n",
       "https://altair-viz.github.io/user_guide/troubleshooting.html\n"
      ]
     },
     "execution_count": 93,
     "metadata": {},
     "output_type": "execute_result"
    }
   ],
   "source": [
    "alt.Chart(game).mark_bar().encode(\n",
    "    x=\"Year:O\",\n",
    "    y=\"sum(Global_Sales):Q\",\n",
    "    color=\"Genre:N\"\n",
    ")"
   ]
  },
  {
   "cell_type": "code",
   "execution_count": null,
   "metadata": {},
   "outputs": [],
   "source": []
  },
  {
   "cell_type": "code",
   "execution_count": null,
   "metadata": {},
   "outputs": [],
   "source": []
  },
  {
   "cell_type": "code",
   "execution_count": 89,
   "metadata": {},
   "outputs": [
    {
     "data": {
      "text/plain": [
       "Genre\n",
       "Action          1751.18\n",
       "Adventure        239.04\n",
       "Fighting         448.91\n",
       "Misc             809.96\n",
       "Platform         831.37\n",
       "Puzzle           244.95\n",
       "Racing           732.04\n",
       "Role-Playing     927.37\n",
       "Shooter         1037.37\n",
       "Simulation       392.20\n",
       "Sports          1330.93\n",
       "Strategy         175.12\n",
       "Name: Global_Sales, dtype: float64"
      ]
     },
     "execution_count": 89,
     "metadata": {},
     "output_type": "execute_result"
    }
   ],
   "source": [
    "game.groupby('Genre')['Global_Sales'].sum()"
   ]
  },
  {
   "cell_type": "code",
   "execution_count": 90,
   "metadata": {},
   "outputs": [
    {
     "data": {
      "text/html": [
       "<div>\n",
       "<style scoped>\n",
       "    .dataframe tbody tr th:only-of-type {\n",
       "        vertical-align: middle;\n",
       "    }\n",
       "\n",
       "    .dataframe tbody tr th {\n",
       "        vertical-align: top;\n",
       "    }\n",
       "\n",
       "    .dataframe thead th {\n",
       "        text-align: right;\n",
       "    }\n",
       "</style>\n",
       "<table border=\"1\" class=\"dataframe\">\n",
       "  <thead>\n",
       "    <tr style=\"text-align: right;\">\n",
       "      <th></th>\n",
       "      <th>Rank</th>\n",
       "      <th>Name</th>\n",
       "      <th>Platform</th>\n",
       "      <th>Year</th>\n",
       "      <th>Genre</th>\n",
       "      <th>Publisher</th>\n",
       "      <th>NA_Sales</th>\n",
       "      <th>EU_Sales</th>\n",
       "      <th>JP_Sales</th>\n",
       "      <th>Other_Sales</th>\n",
       "      <th>Global_Sales</th>\n",
       "    </tr>\n",
       "  </thead>\n",
       "  <tbody>\n",
       "    <tr>\n",
       "      <th>0</th>\n",
       "      <td>1</td>\n",
       "      <td>Wii Sports</td>\n",
       "      <td>Wii</td>\n",
       "      <td>2006.0</td>\n",
       "      <td>Sports</td>\n",
       "      <td>Nintendo</td>\n",
       "      <td>41.49</td>\n",
       "      <td>29.02</td>\n",
       "      <td>3.77</td>\n",
       "      <td>8.46</td>\n",
       "      <td>82.74</td>\n",
       "    </tr>\n",
       "    <tr>\n",
       "      <th>1</th>\n",
       "      <td>2</td>\n",
       "      <td>Super Mario Bros.</td>\n",
       "      <td>NES</td>\n",
       "      <td>1985.0</td>\n",
       "      <td>Platform</td>\n",
       "      <td>Nintendo</td>\n",
       "      <td>29.08</td>\n",
       "      <td>3.58</td>\n",
       "      <td>6.81</td>\n",
       "      <td>0.77</td>\n",
       "      <td>40.24</td>\n",
       "    </tr>\n",
       "    <tr>\n",
       "      <th>2</th>\n",
       "      <td>3</td>\n",
       "      <td>Mario Kart Wii</td>\n",
       "      <td>Wii</td>\n",
       "      <td>2008.0</td>\n",
       "      <td>Racing</td>\n",
       "      <td>Nintendo</td>\n",
       "      <td>15.85</td>\n",
       "      <td>12.88</td>\n",
       "      <td>3.79</td>\n",
       "      <td>3.31</td>\n",
       "      <td>35.82</td>\n",
       "    </tr>\n",
       "    <tr>\n",
       "      <th>3</th>\n",
       "      <td>4</td>\n",
       "      <td>Wii Sports Resort</td>\n",
       "      <td>Wii</td>\n",
       "      <td>2009.0</td>\n",
       "      <td>Sports</td>\n",
       "      <td>Nintendo</td>\n",
       "      <td>15.75</td>\n",
       "      <td>11.01</td>\n",
       "      <td>3.28</td>\n",
       "      <td>2.96</td>\n",
       "      <td>33.00</td>\n",
       "    </tr>\n",
       "    <tr>\n",
       "      <th>4</th>\n",
       "      <td>5</td>\n",
       "      <td>Pokemon Red/Pokemon Blue</td>\n",
       "      <td>GB</td>\n",
       "      <td>1996.0</td>\n",
       "      <td>Role-Playing</td>\n",
       "      <td>Nintendo</td>\n",
       "      <td>11.27</td>\n",
       "      <td>8.89</td>\n",
       "      <td>10.22</td>\n",
       "      <td>1.00</td>\n",
       "      <td>31.37</td>\n",
       "    </tr>\n",
       "  </tbody>\n",
       "</table>\n",
       "</div>"
      ],
      "text/plain": [
       "   Rank                      Name Platform    Year         Genre Publisher  \\\n",
       "0     1                Wii Sports      Wii  2006.0        Sports  Nintendo   \n",
       "1     2         Super Mario Bros.      NES  1985.0      Platform  Nintendo   \n",
       "2     3            Mario Kart Wii      Wii  2008.0        Racing  Nintendo   \n",
       "3     4         Wii Sports Resort      Wii  2009.0        Sports  Nintendo   \n",
       "4     5  Pokemon Red/Pokemon Blue       GB  1996.0  Role-Playing  Nintendo   \n",
       "\n",
       "   NA_Sales  EU_Sales  JP_Sales  Other_Sales  Global_Sales  \n",
       "0     41.49     29.02      3.77         8.46         82.74  \n",
       "1     29.08      3.58      6.81         0.77         40.24  \n",
       "2     15.85     12.88      3.79         3.31         35.82  \n",
       "3     15.75     11.01      3.28         2.96         33.00  \n",
       "4     11.27      8.89     10.22         1.00         31.37  "
      ]
     },
     "execution_count": 90,
     "metadata": {},
     "output_type": "execute_result"
    }
   ],
   "source": [
    "game.head()"
   ]
  },
  {
   "cell_type": "code",
   "execution_count": null,
   "metadata": {},
   "outputs": [],
   "source": []
  },
  {
   "cell_type": "markdown",
   "metadata": {},
   "source": [
    "#### 7. Future Studies"
   ]
  },
  {
   "cell_type": "code",
   "execution_count": 7,
   "metadata": {},
   "outputs": [
    {
     "ename": "NameError",
     "evalue": "name 'sdsdfd' is not defined",
     "output_type": "error",
     "traceback": [
      "\u001b[1;31m---------------------------------------------------------------------------\u001b[0m",
      "\u001b[1;31mNameError\u001b[0m                                 Traceback (most recent call last)",
      "\u001b[1;32m<ipython-input-7-1f45ff1ba0f1>\u001b[0m in \u001b[0;36m<module>\u001b[1;34m\u001b[0m\n\u001b[1;32m----> 1\u001b[1;33m \u001b[0msdsdfd\u001b[0m\u001b[1;33m\u001b[0m\u001b[1;33m\u001b[0m\u001b[0m\n\u001b[0m",
      "\u001b[1;31mNameError\u001b[0m: name 'sdsdfd' is not defined"
     ]
    }
   ],
   "source": [
    "sdsdfd"
   ]
  }
 ],
 "metadata": {
  "kernelspec": {
   "display_name": "Python 3",
   "language": "python",
   "name": "python3"
  },
  "language_info": {
   "codemirror_mode": {
    "name": "ipython",
    "version": 3
   },
   "file_extension": ".py",
   "mimetype": "text/x-python",
   "name": "python",
   "nbconvert_exporter": "python",
   "pygments_lexer": "ipython3",
   "version": "3.8.3"
  }
 },
 "nbformat": 4,
 "nbformat_minor": 4
}
