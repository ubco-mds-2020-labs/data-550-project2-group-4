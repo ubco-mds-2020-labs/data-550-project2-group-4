{
 "cells": [
  {
   "cell_type": "markdown",
   "metadata": {},
   "source": [
    "### Video Games Dataset: EDA\n",
    "#### 1. Describe Dataset\n",
    "- **Who:** The data was acquired from Kaggle and supplied by the user Gregory Smith (https://www.kaggle.com/gregorut/videogamesales). The data was scraped from www.vgchartz.com. \n",
    "- **What:** The dataset contains a list of video games with sales greater than 100,000 from 1980 to 2011. It contains information such as the platform the game was made available, year of release, genre, publisher, sales in NA, sales in JP, sales in EU, sales in the rest of the world and global sales (total). The data set also includes the rank of games in terms of overall sales. **NOTE: Sales are in millions**\n",
    "- **When:** The data set was last updated 4 years ago but contains games released from 1980 to seemingly 2017. \n",
    "- **Why:** The video game industry is a very competitive yet profitable industry. While big companies with large amounts of resources have an edge over smaller companies, we have recently seen many small companies finding huge success. Not only in game creation but in the case of streamers for example, playing a game before it becomes mainstream might give you an edge against bigger name streamers. With this data set, we are able to gain insight into general idea such as performance of companies, most popular titles and genres. We are also able to dive deeper and look at changing genre popularities over time, regional preference in game genres/platforms, upcoming developer etc.  \n",
    "- **How:** The data set was scraped from the www.vgzchartz.com website using BeautifulSoup. The scraping script can be found here (https://github.com/GregorUT/vgchartzScrape)"
   ]
  },
  {
   "cell_type": "markdown",
   "metadata": {},
   "source": [
    "#### 2. Load Dataset"
   ]
  },
  {
   "cell_type": "code",
   "execution_count": 48,
   "metadata": {},
   "outputs": [
    {
     "name": "stdout",
     "output_type": "stream",
     "text": [
      "<class 'pandas.core.frame.DataFrame'>\n",
      "RangeIndex: 16598 entries, 0 to 16597\n",
      "Data columns (total 11 columns):\n",
      " #   Column        Non-Null Count  Dtype  \n",
      "---  ------        --------------  -----  \n",
      " 0   Rank          16598 non-null  int64  \n",
      " 1   Name          16598 non-null  object \n",
      " 2   Platform      16598 non-null  object \n",
      " 3   Year          16327 non-null  float64\n",
      " 4   Genre         16598 non-null  object \n",
      " 5   Publisher     16540 non-null  object \n",
      " 6   NA_Sales      16598 non-null  float64\n",
      " 7   EU_Sales      16598 non-null  float64\n",
      " 8   JP_Sales      16598 non-null  float64\n",
      " 9   Other_Sales   16598 non-null  float64\n",
      " 10  Global_Sales  16598 non-null  float64\n",
      "dtypes: float64(6), int64(1), object(4)\n",
      "memory usage: 1.4+ MB\n"
     ]
    }
   ],
   "source": [
    "import pandas as pd\n",
    "import numpy as np\n",
    "import altair as alt\n",
    "from altair_saver import save\n",
    "alt.renderers.enable('mimetype')\n",
    "alt.data_transformers.enable('data_server')\n",
    "\n",
    "game = pd.read_csv(\"vgsales.csv\")\n",
    "game.info()"
   ]
  },
  {
   "cell_type": "markdown",
   "metadata": {},
   "source": [
    "#### 3. Explore Dataset"
   ]
  },
  {
   "cell_type": "code",
   "execution_count": 49,
   "metadata": {},
   "outputs": [
    {
     "name": "stdout",
     "output_type": "stream",
     "text": [
      "\n",
      "Platform:\n",
      " ['Wii' 'NES' 'GB' 'DS' 'X360' 'PS3' 'PS2' 'SNES' 'GBA' '3DS' 'PS4' 'N64'\n",
      " 'PS' 'XB' 'PC' '2600' 'PSP' 'XOne' 'GC' 'WiiU' 'GEN' 'DC' 'PSV' 'SAT'\n",
      " 'SCD' 'WS' 'NG' 'TG16' '3DO' 'GG' 'PCFX'] \n",
      "Count:  31\n",
      "\n",
      "Year\n",
      " [2006. 1985. 2008. 2009. 1996. 1989. 1984. 2005. 1999. 2007. 2010. 2013.\n",
      " 2004. 1990. 1988. 2002. 2001. 2011. 1998. 2015. 2012. 2014. 1992. 1997.\n",
      " 1993. 1994. 1982. 2003. 1986. 2000.   nan 1995. 2016. 1991. 1981. 1987.\n",
      " 1980. 1983. 2020. 2017.] \n",
      "Count:  39\n",
      "\n",
      "Genre\n",
      " ['Sports' 'Platform' 'Racing' 'Role-Playing' 'Puzzle' 'Misc' 'Shooter'\n",
      " 'Simulation' 'Action' 'Fighting' 'Adventure' 'Strategy'] \n",
      "Count:  12\n",
      "\n",
      "Publishers\n",
      " ['Nintendo' 'Microsoft Game Studios' 'Take-Two Interactive'\n",
      " 'Sony Computer Entertainment' 'Activision' 'Ubisoft' 'Bethesda Softworks'\n",
      " 'Electronic Arts' 'Sega' 'SquareSoft' 'Atari' '505 Games' 'Capcom'\n",
      " 'GT Interactive' 'Konami Digital Entertainment'] \n",
      "Count:  578\n",
      "   Rank               Name Platform    Year     Genre\n",
      "0     1         Wii Sports      Wii  2006.0    Sports\n",
      "1     2  Super Mario Bros.      NES  1985.0  Platform\n",
      "9    10          Duck Hunt      NES  1984.0   Shooter\n",
      "5     6             Tetris       GB  1989.0    Puzzle\n",
      "2     3     Mario Kart Wii      Wii  2008.0    Racing\n",
      "    Rank                Name Platform    Year       Genre\n",
      "0      1          Wii Sports      Wii  2006.0      Sports\n",
      "2      3      Mario Kart Wii      Wii  2008.0      Racing\n",
      "3      4   Wii Sports Resort      Wii  2009.0      Sports\n",
      "10    11          Nintendogs       DS  2005.0  Simulation\n",
      "16    17  Grand Theft Auto V      PS3  2013.0      Action\n",
      "    Rank                           Name Platform    Year         Genre\n",
      "4      5       Pokemon Red/Pokemon Blue       GB  1996.0  Role-Playing\n",
      "12    13    Pokemon Gold/Pokemon Silver       GB  1999.0  Role-Playing\n",
      "1      2              Super Mario Bros.      NES  1985.0      Platform\n",
      "6      7          New Super Mario Bros.       DS  2006.0      Platform\n",
      "20    21  Pokemon Diamond/Pokemon Pearl       DS  2006.0  Role-Playing\n",
      "   Rank                      Name Platform    Year         Genre\n",
      "0     1                Wii Sports      Wii  2006.0        Sports\n",
      "1     2         Super Mario Bros.      NES  1985.0      Platform\n",
      "2     3            Mario Kart Wii      Wii  2008.0        Racing\n",
      "3     4         Wii Sports Resort      Wii  2009.0        Sports\n",
      "4     5  Pokemon Red/Pokemon Blue       GB  1996.0  Role-Playing\n"
     ]
    }
   ],
   "source": [
    "print(\"\\nPlatform:\\n\",game.Platform.unique(),\"\\nCount: \",game.Platform.nunique())\n",
    "print(\"\\nYear\\n\",game.Year.unique(),\"\\nCount: \",game.Year.nunique())\n",
    "print(\"\\nGenre\\n\",game.Genre.unique(),\"\\nCount: \",game.Genre.nunique())\n",
    "print(\"\\nPublishers\\n\",game.Publisher.unique()[0:15],\"\\nCount: \",game.Publisher.nunique())\n",
    "\n",
    "print(game.sort_values(\"NA_Sales\",ascending=False).head(5).iloc[:,0:5])\n",
    "print(game.sort_values(\"EU_Sales\",ascending=False).head(5).iloc[:,0:5])\n",
    "print(game.sort_values(\"JP_Sales\",ascending=False).head(5).iloc[:,0:5])\n",
    "print(game.sort_values(\"Global_Sales\",ascending=False).head(5).iloc[:,0:5])"
   ]
  },
  {
   "cell_type": "markdown",
   "metadata": {},
   "source": [
    "#### 4. Initial thoughts?\n",
    "- We have null values in Year and Publisher\n",
    "- Year is a float, we could probably turn it into an int to make it prettier\n",
    "- We have 31 unique Platforms\n",
    "- We have 39 unique years (one being nan)\n",
    "- We have 12 unique genres\n",
    "- We have 578 unique publishers"
   ]
  },
  {
   "cell_type": "markdown",
   "metadata": {},
   "source": [
    "#### 5. Wrangling"
   ]
  },
  {
   "cell_type": "markdown",
   "metadata": {},
   "source": [
    "#### 6. Research Questions/Visualization+Analysis"
   ]
  },
  {
   "cell_type": "markdown",
   "metadata": {},
   "source": [
    "#### 7. Future Studies"
   ]
  },
  {
   "cell_type": "code",
   "execution_count": null,
   "metadata": {},
   "outputs": [],
   "source": []
  }
 ],
 "metadata": {
  "kernelspec": {
   "display_name": "Python 3",
   "language": "python",
   "name": "python3"
  },
  "language_info": {
   "codemirror_mode": {
    "name": "ipython",
    "version": 3
   },
   "file_extension": ".py",
   "mimetype": "text/x-python",
   "name": "python",
   "nbconvert_exporter": "python",
   "pygments_lexer": "ipython3",
   "version": "3.8.3"
  }
 },
 "nbformat": 4,
 "nbformat_minor": 4
}
